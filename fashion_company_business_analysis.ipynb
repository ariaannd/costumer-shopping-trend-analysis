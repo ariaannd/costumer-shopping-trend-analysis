{
 "cells": [
  {
   "cell_type": "markdown",
   "metadata": {},
   "source": [
    "**Link Dashboard** - Fashion Company Analysis Aria Ananda:\n",
    "\n",
    "https://public.tableau.com/app/profile/aria.ananda/viz/FashionCompanyAnalysis-AriaAnanda/FashionCompanyAnalysisDashboard-Page1?publish=yes"
   ]
  },
  {
   "cell_type": "markdown",
   "metadata": {},
   "source": [
    "# Perkenalan"
   ]
  },
  {
   "cell_type": "markdown",
   "metadata": {},
   "source": [
    "=================================================  \n",
    "\n",
    "**Milestone 1**  \n",
    "  \n",
    "Nama  : Aria Ananda  \n",
    "Batch : HCK-013  \n",
    "  \n",
    "Objective : Program ini dibuat untuk melakukan menganalisa segmentasi customer, performa produk, dan marketing serta perilaku pelanggan dalam bisnis fashion untuk optimasi strategi bisnis dan meningkatkan customer satisfaction tahun depan   \n",
    "\n",
    "=================================================  \n"
   ]
  },
  {
   "cell_type": "code",
   "execution_count": 40,
   "metadata": {},
   "outputs": [],
   "source": [
    "# Import Libraries\n",
    "\n",
    "import pandas as pd\n",
    "import scipy.stats as st\n",
    "import numpy as np\n",
    "import matplotlib.pyplot as plt \n",
    "import seaborn as sns\n",
    "import plotly.express as px\n"
   ]
  },
  {
   "cell_type": "markdown",
   "metadata": {},
   "source": [
    "# Identifikasi Masalah"
   ]
  },
  {
   "cell_type": "markdown",
   "metadata": {},
   "source": [
    "**Topik Permasalahan**  \n",
    "  \n",
    "Menganalisa segmentasi dan preferensi pelanggan, product dan marketing performance dalam data bisnis fashion untuk optimasi strategy bisnis dan meningkatkan pendapatan tahun depan"
   ]
  },
  {
   "cell_type": "markdown",
   "metadata": {},
   "source": [
    "**SMART & Problem Statement**\n",
    "\n",
    "**S**(Specific)    = Meningkatkan sales dengan mengetahui segmentasi, dan preferensi pelanggan dan trend dari penjualan untup mengoptimalisasi strategi marketing dan meningkatkan performa promosi dan penjualan ke depan\n",
    "\n",
    "**M**(Measurable)  = Meningkatkan pertumbuhan total revenue sales sebesar 15 persen tahun depan\n",
    "\n",
    "**A**(Achievable)  = Menganalisa faktor yang memengaruhi pembelian produk seperti segmentasi demografi pelanggan, customer preferences beserta waktu penjualan dan lokasi yang efektif.\n",
    "\n",
    "**R**(Relevant)    = Mendapatkan insight dari customer preferences dan segmentasi pelanggan, serta waktu dan wilayah penjualan yang tepat dapat meningkatkan akurasi penjualan serta memperbaiki marketing performance (promosi dan diskon) akan berdampak kepada customer satisfaction yang akan berdampak terhadap peningkatan sales.\n",
    "\n",
    "**T**(Time-bound)  = Dilakukan selama masa penjualan setahun, dimulai tahun depan\n",
    "\n",
    "**Problem Statement**\n",
    "\n",
    "\"Meningkatkan total revenue sales produk sebesar 15% tahun depan, dengan menganalisa preferensi pelanggan, pembelian berdasarkan demografi konsumen, trend penjualan berdasarkan   tipe produk, desain ukuran dan warna,  peak season, untuk mendapat insight dan meningkatkan kinerja marketing dan customer satisfaction selama setahun, dimulai pada tahun depan\" \n"
   ]
  },
  {
   "cell_type": "markdown",
   "metadata": {},
   "source": [
    "**Latar Belakang**  \n",
    "  \n",
    "Saya adalah seorang Data Analyst yang bekerja di perusahaan fashion di USA. Perusahaan memerintahkan saya untuk melakukan analisa segmentasi dan preferensi konsumen berdasarkan data penjualan tahun ini, performa produk, wilayah penjualan dan seasonal sales beserta menganalisa program marketing yang berjalan saat ini, serta membuat tableu untuk digunakan analyst serta middle management level dalam mengambil keputusan dengan tujuan mengoptimasi strategi marketing yang diharapkan dapat membantu meningkatkan penjualan pada tahun depan. \n"
   ]
  },
  {
   "cell_type": "markdown",
   "metadata": {},
   "source": [
    "**Penjabaran Masalah Menggunakan metode 5W + 1H** \n",
    "\n",
    "- Pelanggan dengan gender apa yang paling banyak melakukan pembelian?\n",
    "- Apakah gender memengaruhi jumlah tingkat penjualan?\n",
    "- Pelanggan dengan rentang umur berapa yang paling banyak mengenerate penjualan?  \n",
    "- Di mana lokasi yang paling banyak mengenerate penjualan?\n",
    "- Kapan masa penjualan tertinggi (Season)?\n",
    "- Item apa yang paling diminati oleh pelanggan?\n",
    "- ukuran dan warna apa yang paling diminati oleh pelanggan?\n",
    "- Apakah rating memengaruhi nilai dari performa penjualan?\n",
    "- Apakah subscription status memengaruhi nilai dari performa penjualan?\n",
    "- Apakah diskon memengaruhi performa penjualan?  \n",
    "- Apakah Promo code memengaruhi performa penjualan?\n",
    "\n",
    "\n",
    "**Insight yang Berpotensi Didapatkan**\n",
    "\n",
    "*Customer Segmentation*\n",
    "- Distribusi umur dan gender costumer yang melakukan pembelian\n",
    "- group demografi costumer yang berkontribusi besar ke sales\n",
    "\n",
    "*Product Performance*\n",
    "- Identifikasi Top selling product dan lowest selling product\n",
    "- Identifikasi warna dan ukuran berdasarkan penjualan\n",
    "\n",
    "*Regional Performance*\n",
    "- Mengidentifikasi daerah mana yang memiliki sales terginggi dan terendah\n",
    "\n",
    "*Marketing Performance*\n",
    "- Analisa tingkat pembelian consumen dan preferensi konsumen berdasarkan review rating, subscription status, promo atau diskon\n",
    "\n",
    "*Seasonal Insights*\n",
    "- Mengidentifikasi tren sales seasonal\n"
   ]
  },
  {
   "cell_type": "markdown",
   "metadata": {},
   "source": [
    "# Data Loading"
   ]
  },
  {
   "cell_type": "markdown",
   "metadata": {},
   "source": [
    "**Dataset Overview**\n",
    "\n",
    "Dataset yang akan dianalisa diambil dari sumber website kaggle.com berjudul \"Customer Shopping Trends Dataset\" yang dapat diakses di link di bawah ini. Berdasarkan informasi dari kaggle.com, dataset ini diupload oleh akun Sourav Banerjee untuk mengsimulasikan customer shopping experience yang realistis.  Berikut adalah informasi dari glossary atau penjelasan dari kolom-kolom di dalam dataset.\n",
    "\n",
    "- Customer ID - Unique identifier for each customer\n",
    "- Age - Age of the customer\n",
    "- Gender - Gender of the customer (Male/Female)\n",
    "- Item Purchased - The item purchased by the customer\n",
    "- Category - Category of the item purchased\n",
    "- Purchase Amount (USD) - The amount of the purchase in USD\n",
    "- Location - Location where the purchase was made\n",
    "- Size - Size of the purchased item\n",
    "- Color - Color of the purchased item\n",
    "- Season - Season during which the purchase was made\n",
    "- Review Rating - Rating given by the customer for the purchased item\n",
    "- Subscription Status - Indicates if the customer has a subscription (Yes/No)\n",
    "- Shipping Type - Type of shipping chosen by the customer\n",
    "- Discount Applied - Indicates if a discount was applied to the purchase (Yes/No)\n",
    "- Promo Code Used - Indicates if a promo code was used for the purchase (Yes/No)\n",
    "- Previous Purchases - The total count of transactions concluded by the customer at the store, excluding the ongoing transaction\n",
    "- Payment Method - Customer's most preferred payment method\n",
    "- Frequency of Purchases - Frequency at which the customer makes purchases (e.g., Weekly, Fortnightly, Monthly)"
   ]
  },
  {
   "cell_type": "markdown",
   "metadata": {},
   "source": [
    "**sumber data**: https://www.kaggle.com/datasets/iamsouravbanerjee/customer-shopping-trends-dataset/data"
   ]
  },
  {
   "cell_type": "code",
   "execution_count": 41,
   "metadata": {},
   "outputs": [
    {
     "data": {
      "text/html": [
       "<div>\n",
       "<style scoped>\n",
       "    .dataframe tbody tr th:only-of-type {\n",
       "        vertical-align: middle;\n",
       "    }\n",
       "\n",
       "    .dataframe tbody tr th {\n",
       "        vertical-align: top;\n",
       "    }\n",
       "\n",
       "    .dataframe thead th {\n",
       "        text-align: right;\n",
       "    }\n",
       "</style>\n",
       "<table border=\"1\" class=\"dataframe\">\n",
       "  <thead>\n",
       "    <tr style=\"text-align: right;\">\n",
       "      <th></th>\n",
       "      <th>Customer ID</th>\n",
       "      <th>Age</th>\n",
       "      <th>Gender</th>\n",
       "      <th>Item Purchased</th>\n",
       "      <th>Category</th>\n",
       "      <th>Purchase Amount (USD)</th>\n",
       "      <th>Location</th>\n",
       "      <th>Size</th>\n",
       "      <th>Color</th>\n",
       "      <th>Season</th>\n",
       "      <th>Review Rating</th>\n",
       "      <th>Subscription Status</th>\n",
       "      <th>Shipping Type</th>\n",
       "      <th>Discount Applied</th>\n",
       "      <th>Promo Code Used</th>\n",
       "      <th>Previous Purchases</th>\n",
       "      <th>Payment Method</th>\n",
       "      <th>Frequency of Purchases</th>\n",
       "    </tr>\n",
       "  </thead>\n",
       "  <tbody>\n",
       "    <tr>\n",
       "      <th>0</th>\n",
       "      <td>1</td>\n",
       "      <td>55</td>\n",
       "      <td>Male</td>\n",
       "      <td>Blouse</td>\n",
       "      <td>Clothing</td>\n",
       "      <td>53</td>\n",
       "      <td>Kentucky</td>\n",
       "      <td>L</td>\n",
       "      <td>Gray</td>\n",
       "      <td>Winter</td>\n",
       "      <td>3.1</td>\n",
       "      <td>Yes</td>\n",
       "      <td>Express</td>\n",
       "      <td>Yes</td>\n",
       "      <td>Yes</td>\n",
       "      <td>14</td>\n",
       "      <td>Venmo</td>\n",
       "      <td>Fortnightly</td>\n",
       "    </tr>\n",
       "    <tr>\n",
       "      <th>1</th>\n",
       "      <td>2</td>\n",
       "      <td>19</td>\n",
       "      <td>Male</td>\n",
       "      <td>Sweater</td>\n",
       "      <td>Clothing</td>\n",
       "      <td>64</td>\n",
       "      <td>Maine</td>\n",
       "      <td>L</td>\n",
       "      <td>Maroon</td>\n",
       "      <td>Winter</td>\n",
       "      <td>3.1</td>\n",
       "      <td>Yes</td>\n",
       "      <td>Express</td>\n",
       "      <td>Yes</td>\n",
       "      <td>Yes</td>\n",
       "      <td>2</td>\n",
       "      <td>Cash</td>\n",
       "      <td>Fortnightly</td>\n",
       "    </tr>\n",
       "    <tr>\n",
       "      <th>2</th>\n",
       "      <td>3</td>\n",
       "      <td>50</td>\n",
       "      <td>Male</td>\n",
       "      <td>Jeans</td>\n",
       "      <td>Clothing</td>\n",
       "      <td>73</td>\n",
       "      <td>Massachusetts</td>\n",
       "      <td>S</td>\n",
       "      <td>Maroon</td>\n",
       "      <td>Spring</td>\n",
       "      <td>3.1</td>\n",
       "      <td>Yes</td>\n",
       "      <td>Free Shipping</td>\n",
       "      <td>Yes</td>\n",
       "      <td>Yes</td>\n",
       "      <td>23</td>\n",
       "      <td>Credit Card</td>\n",
       "      <td>Weekly</td>\n",
       "    </tr>\n",
       "    <tr>\n",
       "      <th>3</th>\n",
       "      <td>4</td>\n",
       "      <td>21</td>\n",
       "      <td>Male</td>\n",
       "      <td>Sandals</td>\n",
       "      <td>Footwear</td>\n",
       "      <td>90</td>\n",
       "      <td>Rhode Island</td>\n",
       "      <td>M</td>\n",
       "      <td>Maroon</td>\n",
       "      <td>Spring</td>\n",
       "      <td>3.5</td>\n",
       "      <td>Yes</td>\n",
       "      <td>Next Day Air</td>\n",
       "      <td>Yes</td>\n",
       "      <td>Yes</td>\n",
       "      <td>49</td>\n",
       "      <td>PayPal</td>\n",
       "      <td>Weekly</td>\n",
       "    </tr>\n",
       "    <tr>\n",
       "      <th>4</th>\n",
       "      <td>5</td>\n",
       "      <td>45</td>\n",
       "      <td>Male</td>\n",
       "      <td>Blouse</td>\n",
       "      <td>Clothing</td>\n",
       "      <td>49</td>\n",
       "      <td>Oregon</td>\n",
       "      <td>M</td>\n",
       "      <td>Turquoise</td>\n",
       "      <td>Spring</td>\n",
       "      <td>2.7</td>\n",
       "      <td>Yes</td>\n",
       "      <td>Free Shipping</td>\n",
       "      <td>Yes</td>\n",
       "      <td>Yes</td>\n",
       "      <td>31</td>\n",
       "      <td>PayPal</td>\n",
       "      <td>Annually</td>\n",
       "    </tr>\n",
       "    <tr>\n",
       "      <th>...</th>\n",
       "      <td>...</td>\n",
       "      <td>...</td>\n",
       "      <td>...</td>\n",
       "      <td>...</td>\n",
       "      <td>...</td>\n",
       "      <td>...</td>\n",
       "      <td>...</td>\n",
       "      <td>...</td>\n",
       "      <td>...</td>\n",
       "      <td>...</td>\n",
       "      <td>...</td>\n",
       "      <td>...</td>\n",
       "      <td>...</td>\n",
       "      <td>...</td>\n",
       "      <td>...</td>\n",
       "      <td>...</td>\n",
       "      <td>...</td>\n",
       "      <td>...</td>\n",
       "    </tr>\n",
       "    <tr>\n",
       "      <th>3895</th>\n",
       "      <td>3896</td>\n",
       "      <td>40</td>\n",
       "      <td>Female</td>\n",
       "      <td>Hoodie</td>\n",
       "      <td>Clothing</td>\n",
       "      <td>28</td>\n",
       "      <td>Virginia</td>\n",
       "      <td>L</td>\n",
       "      <td>Turquoise</td>\n",
       "      <td>Summer</td>\n",
       "      <td>4.2</td>\n",
       "      <td>No</td>\n",
       "      <td>2-Day Shipping</td>\n",
       "      <td>No</td>\n",
       "      <td>No</td>\n",
       "      <td>32</td>\n",
       "      <td>Venmo</td>\n",
       "      <td>Weekly</td>\n",
       "    </tr>\n",
       "    <tr>\n",
       "      <th>3896</th>\n",
       "      <td>3897</td>\n",
       "      <td>52</td>\n",
       "      <td>Female</td>\n",
       "      <td>Backpack</td>\n",
       "      <td>Accessories</td>\n",
       "      <td>49</td>\n",
       "      <td>Iowa</td>\n",
       "      <td>L</td>\n",
       "      <td>White</td>\n",
       "      <td>Spring</td>\n",
       "      <td>4.5</td>\n",
       "      <td>No</td>\n",
       "      <td>Store Pickup</td>\n",
       "      <td>No</td>\n",
       "      <td>No</td>\n",
       "      <td>41</td>\n",
       "      <td>Bank Transfer</td>\n",
       "      <td>Bi-Weekly</td>\n",
       "    </tr>\n",
       "    <tr>\n",
       "      <th>3897</th>\n",
       "      <td>3898</td>\n",
       "      <td>46</td>\n",
       "      <td>Female</td>\n",
       "      <td>Belt</td>\n",
       "      <td>Accessories</td>\n",
       "      <td>33</td>\n",
       "      <td>New Jersey</td>\n",
       "      <td>L</td>\n",
       "      <td>Green</td>\n",
       "      <td>Spring</td>\n",
       "      <td>2.9</td>\n",
       "      <td>No</td>\n",
       "      <td>Standard</td>\n",
       "      <td>No</td>\n",
       "      <td>No</td>\n",
       "      <td>24</td>\n",
       "      <td>Venmo</td>\n",
       "      <td>Quarterly</td>\n",
       "    </tr>\n",
       "    <tr>\n",
       "      <th>3898</th>\n",
       "      <td>3899</td>\n",
       "      <td>44</td>\n",
       "      <td>Female</td>\n",
       "      <td>Shoes</td>\n",
       "      <td>Footwear</td>\n",
       "      <td>77</td>\n",
       "      <td>Minnesota</td>\n",
       "      <td>S</td>\n",
       "      <td>Brown</td>\n",
       "      <td>Summer</td>\n",
       "      <td>3.8</td>\n",
       "      <td>No</td>\n",
       "      <td>Express</td>\n",
       "      <td>No</td>\n",
       "      <td>No</td>\n",
       "      <td>24</td>\n",
       "      <td>Venmo</td>\n",
       "      <td>Weekly</td>\n",
       "    </tr>\n",
       "    <tr>\n",
       "      <th>3899</th>\n",
       "      <td>3900</td>\n",
       "      <td>52</td>\n",
       "      <td>Female</td>\n",
       "      <td>Handbag</td>\n",
       "      <td>Accessories</td>\n",
       "      <td>81</td>\n",
       "      <td>California</td>\n",
       "      <td>M</td>\n",
       "      <td>Beige</td>\n",
       "      <td>Spring</td>\n",
       "      <td>3.1</td>\n",
       "      <td>No</td>\n",
       "      <td>Store Pickup</td>\n",
       "      <td>No</td>\n",
       "      <td>No</td>\n",
       "      <td>33</td>\n",
       "      <td>Venmo</td>\n",
       "      <td>Quarterly</td>\n",
       "    </tr>\n",
       "  </tbody>\n",
       "</table>\n",
       "<p>3900 rows × 18 columns</p>\n",
       "</div>"
      ],
      "text/plain": [
       "      Customer ID  Age  Gender Item Purchased     Category  \\\n",
       "0               1   55    Male         Blouse     Clothing   \n",
       "1               2   19    Male        Sweater     Clothing   \n",
       "2               3   50    Male          Jeans     Clothing   \n",
       "3               4   21    Male        Sandals     Footwear   \n",
       "4               5   45    Male         Blouse     Clothing   \n",
       "...           ...  ...     ...            ...          ...   \n",
       "3895         3896   40  Female         Hoodie     Clothing   \n",
       "3896         3897   52  Female       Backpack  Accessories   \n",
       "3897         3898   46  Female           Belt  Accessories   \n",
       "3898         3899   44  Female          Shoes     Footwear   \n",
       "3899         3900   52  Female        Handbag  Accessories   \n",
       "\n",
       "      Purchase Amount (USD)       Location Size      Color  Season  \\\n",
       "0                        53       Kentucky    L       Gray  Winter   \n",
       "1                        64          Maine    L     Maroon  Winter   \n",
       "2                        73  Massachusetts    S     Maroon  Spring   \n",
       "3                        90   Rhode Island    M     Maroon  Spring   \n",
       "4                        49         Oregon    M  Turquoise  Spring   \n",
       "...                     ...            ...  ...        ...     ...   \n",
       "3895                     28       Virginia    L  Turquoise  Summer   \n",
       "3896                     49           Iowa    L      White  Spring   \n",
       "3897                     33     New Jersey    L      Green  Spring   \n",
       "3898                     77      Minnesota    S      Brown  Summer   \n",
       "3899                     81     California    M      Beige  Spring   \n",
       "\n",
       "      Review Rating Subscription Status   Shipping Type Discount Applied  \\\n",
       "0               3.1                 Yes         Express              Yes   \n",
       "1               3.1                 Yes         Express              Yes   \n",
       "2               3.1                 Yes   Free Shipping              Yes   \n",
       "3               3.5                 Yes    Next Day Air              Yes   \n",
       "4               2.7                 Yes   Free Shipping              Yes   \n",
       "...             ...                 ...             ...              ...   \n",
       "3895            4.2                  No  2-Day Shipping               No   \n",
       "3896            4.5                  No    Store Pickup               No   \n",
       "3897            2.9                  No        Standard               No   \n",
       "3898            3.8                  No         Express               No   \n",
       "3899            3.1                  No    Store Pickup               No   \n",
       "\n",
       "     Promo Code Used  Previous Purchases Payment Method Frequency of Purchases  \n",
       "0                Yes                  14          Venmo            Fortnightly  \n",
       "1                Yes                   2           Cash            Fortnightly  \n",
       "2                Yes                  23    Credit Card                 Weekly  \n",
       "3                Yes                  49         PayPal                 Weekly  \n",
       "4                Yes                  31         PayPal               Annually  \n",
       "...              ...                 ...            ...                    ...  \n",
       "3895              No                  32          Venmo                 Weekly  \n",
       "3896              No                  41  Bank Transfer              Bi-Weekly  \n",
       "3897              No                  24          Venmo              Quarterly  \n",
       "3898              No                  24          Venmo                 Weekly  \n",
       "3899              No                  33          Venmo              Quarterly  \n",
       "\n",
       "[3900 rows x 18 columns]"
      ]
     },
     "execution_count": 41,
     "metadata": {},
     "output_type": "execute_result"
    }
   ],
   "source": [
    "# Memasukkan data format csv ke variabel dataframe menggunakan pandas\n",
    "\n",
    "df = pd.read_csv('shopping_trends_updated.csv')\n",
    "df"
   ]
  },
  {
   "cell_type": "markdown",
   "metadata": {},
   "source": [
    "**Simple Data Exploration**"
   ]
  },
  {
   "cell_type": "code",
   "execution_count": 42,
   "metadata": {},
   "outputs": [
    {
     "data": {
      "text/html": [
       "<div>\n",
       "<style scoped>\n",
       "    .dataframe tbody tr th:only-of-type {\n",
       "        vertical-align: middle;\n",
       "    }\n",
       "\n",
       "    .dataframe tbody tr th {\n",
       "        vertical-align: top;\n",
       "    }\n",
       "\n",
       "    .dataframe thead th {\n",
       "        text-align: right;\n",
       "    }\n",
       "</style>\n",
       "<table border=\"1\" class=\"dataframe\">\n",
       "  <thead>\n",
       "    <tr style=\"text-align: right;\">\n",
       "      <th></th>\n",
       "      <th>Customer ID</th>\n",
       "      <th>Age</th>\n",
       "      <th>Gender</th>\n",
       "      <th>Item Purchased</th>\n",
       "      <th>Category</th>\n",
       "      <th>Purchase Amount (USD)</th>\n",
       "      <th>Location</th>\n",
       "      <th>Size</th>\n",
       "      <th>Color</th>\n",
       "      <th>Season</th>\n",
       "      <th>Review Rating</th>\n",
       "      <th>Subscription Status</th>\n",
       "      <th>Shipping Type</th>\n",
       "      <th>Discount Applied</th>\n",
       "      <th>Promo Code Used</th>\n",
       "      <th>Previous Purchases</th>\n",
       "      <th>Payment Method</th>\n",
       "      <th>Frequency of Purchases</th>\n",
       "    </tr>\n",
       "  </thead>\n",
       "  <tbody>\n",
       "    <tr>\n",
       "      <th>0</th>\n",
       "      <td>1</td>\n",
       "      <td>55</td>\n",
       "      <td>Male</td>\n",
       "      <td>Blouse</td>\n",
       "      <td>Clothing</td>\n",
       "      <td>53</td>\n",
       "      <td>Kentucky</td>\n",
       "      <td>L</td>\n",
       "      <td>Gray</td>\n",
       "      <td>Winter</td>\n",
       "      <td>3.1</td>\n",
       "      <td>Yes</td>\n",
       "      <td>Express</td>\n",
       "      <td>Yes</td>\n",
       "      <td>Yes</td>\n",
       "      <td>14</td>\n",
       "      <td>Venmo</td>\n",
       "      <td>Fortnightly</td>\n",
       "    </tr>\n",
       "    <tr>\n",
       "      <th>1</th>\n",
       "      <td>2</td>\n",
       "      <td>19</td>\n",
       "      <td>Male</td>\n",
       "      <td>Sweater</td>\n",
       "      <td>Clothing</td>\n",
       "      <td>64</td>\n",
       "      <td>Maine</td>\n",
       "      <td>L</td>\n",
       "      <td>Maroon</td>\n",
       "      <td>Winter</td>\n",
       "      <td>3.1</td>\n",
       "      <td>Yes</td>\n",
       "      <td>Express</td>\n",
       "      <td>Yes</td>\n",
       "      <td>Yes</td>\n",
       "      <td>2</td>\n",
       "      <td>Cash</td>\n",
       "      <td>Fortnightly</td>\n",
       "    </tr>\n",
       "    <tr>\n",
       "      <th>2</th>\n",
       "      <td>3</td>\n",
       "      <td>50</td>\n",
       "      <td>Male</td>\n",
       "      <td>Jeans</td>\n",
       "      <td>Clothing</td>\n",
       "      <td>73</td>\n",
       "      <td>Massachusetts</td>\n",
       "      <td>S</td>\n",
       "      <td>Maroon</td>\n",
       "      <td>Spring</td>\n",
       "      <td>3.1</td>\n",
       "      <td>Yes</td>\n",
       "      <td>Free Shipping</td>\n",
       "      <td>Yes</td>\n",
       "      <td>Yes</td>\n",
       "      <td>23</td>\n",
       "      <td>Credit Card</td>\n",
       "      <td>Weekly</td>\n",
       "    </tr>\n",
       "    <tr>\n",
       "      <th>3</th>\n",
       "      <td>4</td>\n",
       "      <td>21</td>\n",
       "      <td>Male</td>\n",
       "      <td>Sandals</td>\n",
       "      <td>Footwear</td>\n",
       "      <td>90</td>\n",
       "      <td>Rhode Island</td>\n",
       "      <td>M</td>\n",
       "      <td>Maroon</td>\n",
       "      <td>Spring</td>\n",
       "      <td>3.5</td>\n",
       "      <td>Yes</td>\n",
       "      <td>Next Day Air</td>\n",
       "      <td>Yes</td>\n",
       "      <td>Yes</td>\n",
       "      <td>49</td>\n",
       "      <td>PayPal</td>\n",
       "      <td>Weekly</td>\n",
       "    </tr>\n",
       "    <tr>\n",
       "      <th>4</th>\n",
       "      <td>5</td>\n",
       "      <td>45</td>\n",
       "      <td>Male</td>\n",
       "      <td>Blouse</td>\n",
       "      <td>Clothing</td>\n",
       "      <td>49</td>\n",
       "      <td>Oregon</td>\n",
       "      <td>M</td>\n",
       "      <td>Turquoise</td>\n",
       "      <td>Spring</td>\n",
       "      <td>2.7</td>\n",
       "      <td>Yes</td>\n",
       "      <td>Free Shipping</td>\n",
       "      <td>Yes</td>\n",
       "      <td>Yes</td>\n",
       "      <td>31</td>\n",
       "      <td>PayPal</td>\n",
       "      <td>Annually</td>\n",
       "    </tr>\n",
       "  </tbody>\n",
       "</table>\n",
       "</div>"
      ],
      "text/plain": [
       "   Customer ID  Age Gender Item Purchased  Category  Purchase Amount (USD)  \\\n",
       "0            1   55   Male         Blouse  Clothing                     53   \n",
       "1            2   19   Male        Sweater  Clothing                     64   \n",
       "2            3   50   Male          Jeans  Clothing                     73   \n",
       "3            4   21   Male        Sandals  Footwear                     90   \n",
       "4            5   45   Male         Blouse  Clothing                     49   \n",
       "\n",
       "        Location Size      Color  Season  Review Rating Subscription Status  \\\n",
       "0       Kentucky    L       Gray  Winter            3.1                 Yes   \n",
       "1          Maine    L     Maroon  Winter            3.1                 Yes   \n",
       "2  Massachusetts    S     Maroon  Spring            3.1                 Yes   \n",
       "3   Rhode Island    M     Maroon  Spring            3.5                 Yes   \n",
       "4         Oregon    M  Turquoise  Spring            2.7                 Yes   \n",
       "\n",
       "   Shipping Type Discount Applied Promo Code Used  Previous Purchases  \\\n",
       "0        Express              Yes             Yes                  14   \n",
       "1        Express              Yes             Yes                   2   \n",
       "2  Free Shipping              Yes             Yes                  23   \n",
       "3   Next Day Air              Yes             Yes                  49   \n",
       "4  Free Shipping              Yes             Yes                  31   \n",
       "\n",
       "  Payment Method Frequency of Purchases  \n",
       "0          Venmo            Fortnightly  \n",
       "1           Cash            Fortnightly  \n",
       "2    Credit Card                 Weekly  \n",
       "3         PayPal                 Weekly  \n",
       "4         PayPal               Annually  "
      ]
     },
     "execution_count": 42,
     "metadata": {},
     "output_type": "execute_result"
    }
   ],
   "source": [
    "# Memperlihatkan 5 data teratas\n",
    "\n",
    "df.head(5)"
   ]
  },
  {
   "cell_type": "code",
   "execution_count": 43,
   "metadata": {},
   "outputs": [
    {
     "data": {
      "text/html": [
       "<div>\n",
       "<style scoped>\n",
       "    .dataframe tbody tr th:only-of-type {\n",
       "        vertical-align: middle;\n",
       "    }\n",
       "\n",
       "    .dataframe tbody tr th {\n",
       "        vertical-align: top;\n",
       "    }\n",
       "\n",
       "    .dataframe thead th {\n",
       "        text-align: right;\n",
       "    }\n",
       "</style>\n",
       "<table border=\"1\" class=\"dataframe\">\n",
       "  <thead>\n",
       "    <tr style=\"text-align: right;\">\n",
       "      <th></th>\n",
       "      <th>Customer ID</th>\n",
       "      <th>Age</th>\n",
       "      <th>Gender</th>\n",
       "      <th>Item Purchased</th>\n",
       "      <th>Category</th>\n",
       "      <th>Purchase Amount (USD)</th>\n",
       "      <th>Location</th>\n",
       "      <th>Size</th>\n",
       "      <th>Color</th>\n",
       "      <th>Season</th>\n",
       "      <th>Review Rating</th>\n",
       "      <th>Subscription Status</th>\n",
       "      <th>Shipping Type</th>\n",
       "      <th>Discount Applied</th>\n",
       "      <th>Promo Code Used</th>\n",
       "      <th>Previous Purchases</th>\n",
       "      <th>Payment Method</th>\n",
       "      <th>Frequency of Purchases</th>\n",
       "    </tr>\n",
       "  </thead>\n",
       "  <tbody>\n",
       "    <tr>\n",
       "      <th>3895</th>\n",
       "      <td>3896</td>\n",
       "      <td>40</td>\n",
       "      <td>Female</td>\n",
       "      <td>Hoodie</td>\n",
       "      <td>Clothing</td>\n",
       "      <td>28</td>\n",
       "      <td>Virginia</td>\n",
       "      <td>L</td>\n",
       "      <td>Turquoise</td>\n",
       "      <td>Summer</td>\n",
       "      <td>4.2</td>\n",
       "      <td>No</td>\n",
       "      <td>2-Day Shipping</td>\n",
       "      <td>No</td>\n",
       "      <td>No</td>\n",
       "      <td>32</td>\n",
       "      <td>Venmo</td>\n",
       "      <td>Weekly</td>\n",
       "    </tr>\n",
       "    <tr>\n",
       "      <th>3896</th>\n",
       "      <td>3897</td>\n",
       "      <td>52</td>\n",
       "      <td>Female</td>\n",
       "      <td>Backpack</td>\n",
       "      <td>Accessories</td>\n",
       "      <td>49</td>\n",
       "      <td>Iowa</td>\n",
       "      <td>L</td>\n",
       "      <td>White</td>\n",
       "      <td>Spring</td>\n",
       "      <td>4.5</td>\n",
       "      <td>No</td>\n",
       "      <td>Store Pickup</td>\n",
       "      <td>No</td>\n",
       "      <td>No</td>\n",
       "      <td>41</td>\n",
       "      <td>Bank Transfer</td>\n",
       "      <td>Bi-Weekly</td>\n",
       "    </tr>\n",
       "    <tr>\n",
       "      <th>3897</th>\n",
       "      <td>3898</td>\n",
       "      <td>46</td>\n",
       "      <td>Female</td>\n",
       "      <td>Belt</td>\n",
       "      <td>Accessories</td>\n",
       "      <td>33</td>\n",
       "      <td>New Jersey</td>\n",
       "      <td>L</td>\n",
       "      <td>Green</td>\n",
       "      <td>Spring</td>\n",
       "      <td>2.9</td>\n",
       "      <td>No</td>\n",
       "      <td>Standard</td>\n",
       "      <td>No</td>\n",
       "      <td>No</td>\n",
       "      <td>24</td>\n",
       "      <td>Venmo</td>\n",
       "      <td>Quarterly</td>\n",
       "    </tr>\n",
       "    <tr>\n",
       "      <th>3898</th>\n",
       "      <td>3899</td>\n",
       "      <td>44</td>\n",
       "      <td>Female</td>\n",
       "      <td>Shoes</td>\n",
       "      <td>Footwear</td>\n",
       "      <td>77</td>\n",
       "      <td>Minnesota</td>\n",
       "      <td>S</td>\n",
       "      <td>Brown</td>\n",
       "      <td>Summer</td>\n",
       "      <td>3.8</td>\n",
       "      <td>No</td>\n",
       "      <td>Express</td>\n",
       "      <td>No</td>\n",
       "      <td>No</td>\n",
       "      <td>24</td>\n",
       "      <td>Venmo</td>\n",
       "      <td>Weekly</td>\n",
       "    </tr>\n",
       "    <tr>\n",
       "      <th>3899</th>\n",
       "      <td>3900</td>\n",
       "      <td>52</td>\n",
       "      <td>Female</td>\n",
       "      <td>Handbag</td>\n",
       "      <td>Accessories</td>\n",
       "      <td>81</td>\n",
       "      <td>California</td>\n",
       "      <td>M</td>\n",
       "      <td>Beige</td>\n",
       "      <td>Spring</td>\n",
       "      <td>3.1</td>\n",
       "      <td>No</td>\n",
       "      <td>Store Pickup</td>\n",
       "      <td>No</td>\n",
       "      <td>No</td>\n",
       "      <td>33</td>\n",
       "      <td>Venmo</td>\n",
       "      <td>Quarterly</td>\n",
       "    </tr>\n",
       "  </tbody>\n",
       "</table>\n",
       "</div>"
      ],
      "text/plain": [
       "      Customer ID  Age  Gender Item Purchased     Category  \\\n",
       "3895         3896   40  Female         Hoodie     Clothing   \n",
       "3896         3897   52  Female       Backpack  Accessories   \n",
       "3897         3898   46  Female           Belt  Accessories   \n",
       "3898         3899   44  Female          Shoes     Footwear   \n",
       "3899         3900   52  Female        Handbag  Accessories   \n",
       "\n",
       "      Purchase Amount (USD)    Location Size      Color  Season  \\\n",
       "3895                     28    Virginia    L  Turquoise  Summer   \n",
       "3896                     49        Iowa    L      White  Spring   \n",
       "3897                     33  New Jersey    L      Green  Spring   \n",
       "3898                     77   Minnesota    S      Brown  Summer   \n",
       "3899                     81  California    M      Beige  Spring   \n",
       "\n",
       "      Review Rating Subscription Status   Shipping Type Discount Applied  \\\n",
       "3895            4.2                  No  2-Day Shipping               No   \n",
       "3896            4.5                  No    Store Pickup               No   \n",
       "3897            2.9                  No        Standard               No   \n",
       "3898            3.8                  No         Express               No   \n",
       "3899            3.1                  No    Store Pickup               No   \n",
       "\n",
       "     Promo Code Used  Previous Purchases Payment Method Frequency of Purchases  \n",
       "3895              No                  32          Venmo                 Weekly  \n",
       "3896              No                  41  Bank Transfer              Bi-Weekly  \n",
       "3897              No                  24          Venmo              Quarterly  \n",
       "3898              No                  24          Venmo                 Weekly  \n",
       "3899              No                  33          Venmo              Quarterly  "
      ]
     },
     "execution_count": 43,
     "metadata": {},
     "output_type": "execute_result"
    }
   ],
   "source": [
    "# Memperlihatkan 5 data terbawah\n",
    "\n",
    "df.tail(5)"
   ]
  },
  {
   "cell_type": "code",
   "execution_count": 44,
   "metadata": {},
   "outputs": [
    {
     "data": {
      "text/plain": [
       "(3900, 18)"
      ]
     },
     "execution_count": 44,
     "metadata": {},
     "output_type": "execute_result"
    }
   ],
   "source": [
    "# Menampilkan jumlah row, dan column\n",
    "\n",
    "df.shape"
   ]
  },
  {
   "cell_type": "code",
   "execution_count": 45,
   "metadata": {},
   "outputs": [
    {
     "data": {
      "text/plain": [
       "Index(['Customer ID', 'Age', 'Gender', 'Item Purchased', 'Category',\n",
       "       'Purchase Amount (USD)', 'Location', 'Size', 'Color', 'Season',\n",
       "       'Review Rating', 'Subscription Status', 'Shipping Type',\n",
       "       'Discount Applied', 'Promo Code Used', 'Previous Purchases',\n",
       "       'Payment Method', 'Frequency of Purchases'],\n",
       "      dtype='object')"
      ]
     },
     "execution_count": 45,
     "metadata": {},
     "output_type": "execute_result"
    }
   ],
   "source": [
    "# Menampilkan judul kolom\n",
    "\n",
    "df.columns"
   ]
  },
  {
   "cell_type": "markdown",
   "metadata": {},
   "source": [
    "\n",
    "**Kesimpulan**  \n",
    "\n",
    "Berdasarkan analisa explorasi data secara singkat dan sederhana, dapat terlihat bahwa dataset ini memiliki sebanyak 3900 entry data (row) dan 18 kolom. Masing-masing dari kolom berisi informasi kurang lebih sama dengan apa yang dideskripsikan pada data overview dari kaggle.com"
   ]
  },
  {
   "cell_type": "markdown",
   "metadata": {},
   "source": [
    "# Data Cleaning"
   ]
  },
  {
   "cell_type": "code",
   "execution_count": 46,
   "metadata": {},
   "outputs": [
    {
     "name": "stdout",
     "output_type": "stream",
     "text": [
      "<class 'pandas.core.frame.DataFrame'>\n",
      "RangeIndex: 3900 entries, 0 to 3899\n",
      "Data columns (total 18 columns):\n",
      " #   Column                  Non-Null Count  Dtype  \n",
      "---  ------                  --------------  -----  \n",
      " 0   Customer ID             3900 non-null   int64  \n",
      " 1   Age                     3900 non-null   int64  \n",
      " 2   Gender                  3900 non-null   object \n",
      " 3   Item Purchased          3900 non-null   object \n",
      " 4   Category                3900 non-null   object \n",
      " 5   Purchase Amount (USD)   3900 non-null   int64  \n",
      " 6   Location                3900 non-null   object \n",
      " 7   Size                    3900 non-null   object \n",
      " 8   Color                   3900 non-null   object \n",
      " 9   Season                  3900 non-null   object \n",
      " 10  Review Rating           3900 non-null   float64\n",
      " 11  Subscription Status     3900 non-null   object \n",
      " 12  Shipping Type           3900 non-null   object \n",
      " 13  Discount Applied        3900 non-null   object \n",
      " 14  Promo Code Used         3900 non-null   object \n",
      " 15  Previous Purchases      3900 non-null   int64  \n",
      " 16  Payment Method          3900 non-null   object \n",
      " 17  Frequency of Purchases  3900 non-null   object \n",
      "dtypes: float64(1), int64(4), object(13)\n",
      "memory usage: 548.6+ KB\n"
     ]
    }
   ],
   "source": [
    "# Melihat info data keseluruhan; tipe data, null masing-masing kolom\n",
    "\n",
    "df.info()"
   ]
  },
  {
   "cell_type": "code",
   "execution_count": 47,
   "metadata": {},
   "outputs": [
    {
     "data": {
      "text/plain": [
       "0"
      ]
     },
     "execution_count": 47,
     "metadata": {},
     "output_type": "execute_result"
    }
   ],
   "source": [
    "# Mengecek jumlah data duplikat dalam dataframe\n",
    "\n",
    "df.duplicated().sum()"
   ]
  },
  {
   "cell_type": "code",
   "execution_count": 48,
   "metadata": {},
   "outputs": [
    {
     "data": {
      "text/plain": [
       "Customer ID               0\n",
       "Age                       0\n",
       "Gender                    0\n",
       "Item Purchased            0\n",
       "Category                  0\n",
       "Purchase Amount (USD)     0\n",
       "Location                  0\n",
       "Size                      0\n",
       "Color                     0\n",
       "Season                    0\n",
       "Review Rating             0\n",
       "Subscription Status       0\n",
       "Shipping Type             0\n",
       "Discount Applied          0\n",
       "Promo Code Used           0\n",
       "Previous Purchases        0\n",
       "Payment Method            0\n",
       "Frequency of Purchases    0\n",
       "dtype: int64"
      ]
     },
     "execution_count": 48,
     "metadata": {},
     "output_type": "execute_result"
    }
   ],
   "source": [
    "# Mengecek jumlah \n",
    "df.isnull().sum()"
   ]
  },
  {
   "cell_type": "code",
   "execution_count": 49,
   "metadata": {},
   "outputs": [
    {
     "data": {
      "text/html": [
       "<div>\n",
       "<style scoped>\n",
       "    .dataframe tbody tr th:only-of-type {\n",
       "        vertical-align: middle;\n",
       "    }\n",
       "\n",
       "    .dataframe tbody tr th {\n",
       "        vertical-align: top;\n",
       "    }\n",
       "\n",
       "    .dataframe thead th {\n",
       "        text-align: right;\n",
       "    }\n",
       "</style>\n",
       "<table border=\"1\" class=\"dataframe\">\n",
       "  <thead>\n",
       "    <tr style=\"text-align: right;\">\n",
       "      <th></th>\n",
       "      <th>Age</th>\n",
       "      <th>Gender</th>\n",
       "      <th>Item Purchased</th>\n",
       "      <th>Category</th>\n",
       "      <th>Purchase Amount (USD)</th>\n",
       "      <th>Location</th>\n",
       "      <th>Size</th>\n",
       "      <th>Color</th>\n",
       "      <th>Season</th>\n",
       "      <th>Review Rating</th>\n",
       "      <th>Subscription Status</th>\n",
       "      <th>Discount Applied</th>\n",
       "      <th>Promo Code Used</th>\n",
       "      <th>Previous Purchases</th>\n",
       "    </tr>\n",
       "  </thead>\n",
       "  <tbody>\n",
       "    <tr>\n",
       "      <th>0</th>\n",
       "      <td>55</td>\n",
       "      <td>Male</td>\n",
       "      <td>Blouse</td>\n",
       "      <td>Clothing</td>\n",
       "      <td>53</td>\n",
       "      <td>Kentucky</td>\n",
       "      <td>L</td>\n",
       "      <td>Gray</td>\n",
       "      <td>Winter</td>\n",
       "      <td>3.1</td>\n",
       "      <td>Yes</td>\n",
       "      <td>Yes</td>\n",
       "      <td>Yes</td>\n",
       "      <td>14</td>\n",
       "    </tr>\n",
       "    <tr>\n",
       "      <th>1</th>\n",
       "      <td>19</td>\n",
       "      <td>Male</td>\n",
       "      <td>Sweater</td>\n",
       "      <td>Clothing</td>\n",
       "      <td>64</td>\n",
       "      <td>Maine</td>\n",
       "      <td>L</td>\n",
       "      <td>Maroon</td>\n",
       "      <td>Winter</td>\n",
       "      <td>3.1</td>\n",
       "      <td>Yes</td>\n",
       "      <td>Yes</td>\n",
       "      <td>Yes</td>\n",
       "      <td>2</td>\n",
       "    </tr>\n",
       "    <tr>\n",
       "      <th>2</th>\n",
       "      <td>50</td>\n",
       "      <td>Male</td>\n",
       "      <td>Jeans</td>\n",
       "      <td>Clothing</td>\n",
       "      <td>73</td>\n",
       "      <td>Massachusetts</td>\n",
       "      <td>S</td>\n",
       "      <td>Maroon</td>\n",
       "      <td>Spring</td>\n",
       "      <td>3.1</td>\n",
       "      <td>Yes</td>\n",
       "      <td>Yes</td>\n",
       "      <td>Yes</td>\n",
       "      <td>23</td>\n",
       "    </tr>\n",
       "    <tr>\n",
       "      <th>3</th>\n",
       "      <td>21</td>\n",
       "      <td>Male</td>\n",
       "      <td>Sandals</td>\n",
       "      <td>Footwear</td>\n",
       "      <td>90</td>\n",
       "      <td>Rhode Island</td>\n",
       "      <td>M</td>\n",
       "      <td>Maroon</td>\n",
       "      <td>Spring</td>\n",
       "      <td>3.5</td>\n",
       "      <td>Yes</td>\n",
       "      <td>Yes</td>\n",
       "      <td>Yes</td>\n",
       "      <td>49</td>\n",
       "    </tr>\n",
       "    <tr>\n",
       "      <th>4</th>\n",
       "      <td>45</td>\n",
       "      <td>Male</td>\n",
       "      <td>Blouse</td>\n",
       "      <td>Clothing</td>\n",
       "      <td>49</td>\n",
       "      <td>Oregon</td>\n",
       "      <td>M</td>\n",
       "      <td>Turquoise</td>\n",
       "      <td>Spring</td>\n",
       "      <td>2.7</td>\n",
       "      <td>Yes</td>\n",
       "      <td>Yes</td>\n",
       "      <td>Yes</td>\n",
       "      <td>31</td>\n",
       "    </tr>\n",
       "  </tbody>\n",
       "</table>\n",
       "</div>"
      ],
      "text/plain": [
       "   Age Gender Item Purchased  Category  Purchase Amount (USD)       Location  \\\n",
       "0   55   Male         Blouse  Clothing                     53       Kentucky   \n",
       "1   19   Male        Sweater  Clothing                     64          Maine   \n",
       "2   50   Male          Jeans  Clothing                     73  Massachusetts   \n",
       "3   21   Male        Sandals  Footwear                     90   Rhode Island   \n",
       "4   45   Male         Blouse  Clothing                     49         Oregon   \n",
       "\n",
       "  Size      Color  Season  Review Rating Subscription Status Discount Applied  \\\n",
       "0    L       Gray  Winter            3.1                 Yes              Yes   \n",
       "1    L     Maroon  Winter            3.1                 Yes              Yes   \n",
       "2    S     Maroon  Spring            3.1                 Yes              Yes   \n",
       "3    M     Maroon  Spring            3.5                 Yes              Yes   \n",
       "4    M  Turquoise  Spring            2.7                 Yes              Yes   \n",
       "\n",
       "  Promo Code Used  Previous Purchases  \n",
       "0             Yes                  14  \n",
       "1             Yes                   2  \n",
       "2             Yes                  23  \n",
       "3             Yes                  49  \n",
       "4             Yes                  31  "
      ]
     },
     "execution_count": 49,
     "metadata": {},
     "output_type": "execute_result"
    }
   ],
   "source": [
    "# Melakukan penghapusan kolom yang tidak dibutuhkan\n",
    "\n",
    "columns_drop = ['Customer ID', 'Shipping Type', 'Payment Method', 'Frequency of Purchases'] \n",
    "\n",
    "df = df.drop(columns=columns_drop, axis=1)\n",
    "\n",
    "df.head(5)"
   ]
  },
  {
   "cell_type": "markdown",
   "metadata": {},
   "source": [
    "**Kesimpulan**  \n",
    "Setelah dilakukan pengecekan tipe data, data duplikat, dan null value dalam data, didapatkan bahwa seluruh entry di dataframe tidak memiliki data duplikat, dan value null, serta setiap kolom sudah memiliki tipe data yang sesuai dengan format penulisan yang baik. Kolom Customer ID, Shipping Type, Payment Method, dan Frequency of Purchases di drop karena tidak dibutuhkan dan tidak akan dihitung dalam analisa yang akan dilakukan. **Secara garis besar, dataset sudah dalam bentuk yang baik dan bersih jadi tidak banyak hal yang dapat dilakukan untuk membersihkan lebih lanjut selain menghapus kolom yang tidak dibutuhkan**"
   ]
  },
  {
   "cell_type": "markdown",
   "metadata": {},
   "source": [
    "# Analisis dan Perhitungan"
   ]
  },
  {
   "cell_type": "markdown",
   "metadata": {},
   "source": [
    "### **Central Tendency Data Numerik**  \n"
   ]
  },
  {
   "cell_type": "markdown",
   "metadata": {},
   "source": [
    "\n",
    "Sebelum menganalisa lebih lanjut, sebaiknya kita perlu menganalisa central tendency data numerik untuk dapat mengenal penyebaran data numerik, apakah terdistribusi normal atau adakah indikasi memiliki outlier yang dapat dipertimbangkan untuk dibuang atau disimpan untuk analisa lebih lanjut"
   ]
  },
  {
   "cell_type": "code",
   "execution_count": 50,
   "metadata": {},
   "outputs": [
    {
     "data": {
      "text/html": [
       "<div>\n",
       "<style scoped>\n",
       "    .dataframe tbody tr th:only-of-type {\n",
       "        vertical-align: middle;\n",
       "    }\n",
       "\n",
       "    .dataframe tbody tr th {\n",
       "        vertical-align: top;\n",
       "    }\n",
       "\n",
       "    .dataframe thead th {\n",
       "        text-align: right;\n",
       "    }\n",
       "</style>\n",
       "<table border=\"1\" class=\"dataframe\">\n",
       "  <thead>\n",
       "    <tr style=\"text-align: right;\">\n",
       "      <th></th>\n",
       "      <th>Age</th>\n",
       "      <th>Purchase Amount (USD)</th>\n",
       "      <th>Review Rating</th>\n",
       "      <th>Previous Purchases</th>\n",
       "    </tr>\n",
       "  </thead>\n",
       "  <tbody>\n",
       "    <tr>\n",
       "      <th>count</th>\n",
       "      <td>3900.000000</td>\n",
       "      <td>3900.000000</td>\n",
       "      <td>3900.000000</td>\n",
       "      <td>3900.000000</td>\n",
       "    </tr>\n",
       "    <tr>\n",
       "      <th>mean</th>\n",
       "      <td>44.068462</td>\n",
       "      <td>59.764359</td>\n",
       "      <td>3.749949</td>\n",
       "      <td>25.351538</td>\n",
       "    </tr>\n",
       "    <tr>\n",
       "      <th>std</th>\n",
       "      <td>15.207589</td>\n",
       "      <td>23.685392</td>\n",
       "      <td>0.716223</td>\n",
       "      <td>14.447125</td>\n",
       "    </tr>\n",
       "    <tr>\n",
       "      <th>min</th>\n",
       "      <td>18.000000</td>\n",
       "      <td>20.000000</td>\n",
       "      <td>2.500000</td>\n",
       "      <td>1.000000</td>\n",
       "    </tr>\n",
       "    <tr>\n",
       "      <th>25%</th>\n",
       "      <td>31.000000</td>\n",
       "      <td>39.000000</td>\n",
       "      <td>3.100000</td>\n",
       "      <td>13.000000</td>\n",
       "    </tr>\n",
       "    <tr>\n",
       "      <th>50%</th>\n",
       "      <td>44.000000</td>\n",
       "      <td>60.000000</td>\n",
       "      <td>3.700000</td>\n",
       "      <td>25.000000</td>\n",
       "    </tr>\n",
       "    <tr>\n",
       "      <th>75%</th>\n",
       "      <td>57.000000</td>\n",
       "      <td>81.000000</td>\n",
       "      <td>4.400000</td>\n",
       "      <td>38.000000</td>\n",
       "    </tr>\n",
       "    <tr>\n",
       "      <th>max</th>\n",
       "      <td>70.000000</td>\n",
       "      <td>100.000000</td>\n",
       "      <td>5.000000</td>\n",
       "      <td>50.000000</td>\n",
       "    </tr>\n",
       "  </tbody>\n",
       "</table>\n",
       "</div>"
      ],
      "text/plain": [
       "               Age  Purchase Amount (USD)  Review Rating  Previous Purchases\n",
       "count  3900.000000            3900.000000    3900.000000         3900.000000\n",
       "mean     44.068462              59.764359       3.749949           25.351538\n",
       "std      15.207589              23.685392       0.716223           14.447125\n",
       "min      18.000000              20.000000       2.500000            1.000000\n",
       "25%      31.000000              39.000000       3.100000           13.000000\n",
       "50%      44.000000              60.000000       3.700000           25.000000\n",
       "75%      57.000000              81.000000       4.400000           38.000000\n",
       "max      70.000000             100.000000       5.000000           50.000000"
      ]
     },
     "execution_count": 50,
     "metadata": {},
     "output_type": "execute_result"
    }
   ],
   "source": [
    "# Mengecek nilai mean, median, modus dari data numerik menggunakan method .describe()\n",
    "\n",
    "df.describe()"
   ]
  },
  {
   "cell_type": "code",
   "execution_count": 51,
   "metadata": {},
   "outputs": [
    {
     "name": "stdout",
     "output_type": "stream",
     "text": [
      "Modus Age:  69\n",
      "Modus Harga:  32\n",
      "Modus Rating:  3.4\n",
      "Modus Previous Purchases:  31\n"
     ]
    }
   ],
   "source": [
    "# Menghitung khusus modus\n",
    "modus_umur = df['Age'].mode()[0]\n",
    "modus_harga = df['Purchase Amount (USD)'].mode()[0]\n",
    "modus_rating = df['Review Rating'].mode()[0]\n",
    "modus_sales = df['Previous Purchases'].mode()[0]\n",
    "\n",
    "print(\"Modus Age: \", modus_umur)\n",
    "print(\"Modus Harga: \", modus_harga)\n",
    "print(\"Modus Rating: \", modus_rating)\n",
    "print(\"Modus Previous Purchases: \", modus_sales)"
   ]
  },
  {
   "cell_type": "markdown",
   "metadata": {},
   "source": [
    "**Kesimpulan**  \n",
    "- Berdasarkan data, nilai median dan mean dari masing-masing data hampir sama, hal ini menandakan bahwa distribusi data yang relevan sudah normal dan kemungkinan data tidak memiliki outlier\n",
    "\n",
    "- Di kolom age, terlihat rata-rata umur pelanggan berada di angka 44 tahun dengan nilai minimal umur 18 tahun hingga maksimal umur 70 tahun dengan modus 69 tahun dan standar deviasi sebesar 15,2. Penyebaran umur terlihat merata, dari jenjang 18 tahun hingga paling tinggi 70 tahun dan rentang dari q1 hingga q3 tidak berbeda jauh, sama-sama sekitar 12-13 tahun.\n",
    "  \n",
    "- Di kolom purchase amount, terlihat rata-rata berada di US$59,764 dengan minimal purchase sebesar US$20 dan maksimal di angka US$100, modus US$32 dengan standard deviasi 23,68.  Distribusi jumlah purchase amount juga sama, dari q1 ke q3 masing-masing q memiliki jarak 21 US$\n",
    "  \n",
    "- Di kolom review rating, terlihat rata-rata rating 3,749 dengan minimal rating 2,5 dan maksimal 5, modus 3,4 dan standar deviasi 0,71. Distribusi dari rating juga sama, dari q1 ke median q2 jaraknya tidak jauh hanya 0,6 namun dari q2 ke q 3 0,7. Namun hal ini sebenarnya kurang baik, karena rating yang terbilang rendah atau kurang optimal jumlahnya mungkin hampir sama dengan rating yang tinggi.\n",
    "  \n",
    "- Di kolom previous purchase, rata-rata berada di angka 25,35 sangat tipis bedanya dengan median yang besarnya 25 dengan nilai minimal 1 dan makismal 50, modus 31 kali transaksi, dan standar deviasi sebesar 14,44."
   ]
  },
  {
   "cell_type": "markdown",
   "metadata": {},
   "source": [
    "### **Outlier Analysis**  \n"
   ]
  },
  {
   "cell_type": "markdown",
   "metadata": {},
   "source": [
    "\n",
    "Setelah melakukan analisa central tendency, outlier analysis sebaiknya tetap dilakukan untuk lebih mengetahui bentuk distribusi data. Dengan demikian kita akan mendapatkan hasil skewedness data dan bentuk penyebaran dari nilai kurtosis"
   ]
  },
  {
   "cell_type": "code",
   "execution_count": 52,
   "metadata": {},
   "outputs": [
    {
     "name": "stdout",
     "output_type": "stream",
     "text": [
      "Skewness Age:  -0.0063797217209905395\n",
      "Kurtosis Age:  -1.1950871489241808\n"
     ]
    }
   ],
   "source": [
    "skew_age = df['Age'].skew()\n",
    "kurtosis_age = df['Age'].kurtosis()\n",
    "\n",
    "print(\"Skewness Age: \", skew_age)\n",
    "print(\"Kurtosis Age: \", kurtosis_age)"
   ]
  },
  {
   "cell_type": "code",
   "execution_count": 53,
   "metadata": {},
   "outputs": [
    {
     "name": "stdout",
     "output_type": "stream",
     "text": [
      "Skewness Purchase Amount:  0.012701757626433795\n",
      "Kurtosis Purchase Amount:  -1.236593691266159\n"
     ]
    }
   ],
   "source": [
    "skew_purchase_amount = df['Purchase Amount (USD)'].skew()\n",
    "kurtosis_purchase_amount = df['Purchase Amount (USD)'].kurtosis()\n",
    "\n",
    "print(\"Skewness Purchase Amount: \", skew_purchase_amount)\n",
    "print(\"Kurtosis Purchase Amount: \", kurtosis_purchase_amount)"
   ]
  },
  {
   "cell_type": "code",
   "execution_count": 54,
   "metadata": {},
   "outputs": [
    {
     "name": "stdout",
     "output_type": "stream",
     "text": [
      "Skewness Previous Purchase:  0.0031211555127652127\n",
      "Kurtosis Previous Purchase:  -1.1901873846405375\n"
     ]
    }
   ],
   "source": [
    "skew_previous_purchase = df['Previous Purchases'].skew()\n",
    "kurtosis_previous_purchase = df['Previous Purchases'].kurtosis()\n",
    "\n",
    "print(\"Skewness Previous Purchase: \", skew_previous_purchase)\n",
    "print(\"Kurtosis Previous Purchase: \", kurtosis_previous_purchase)"
   ]
  },
  {
   "cell_type": "code",
   "execution_count": 55,
   "metadata": {},
   "outputs": [
    {
     "name": "stdout",
     "output_type": "stream",
     "text": [
      "Skewness Rating:  0.00452459644246527\n",
      "Kurtosis Rating:  -1.1796283021299137\n"
     ]
    }
   ],
   "source": [
    "skew_rating = df['Review Rating'].skew()\n",
    "kurtosis_rating = df['Review Rating'].kurtosis()\n",
    "\n",
    "print(\"Skewness Rating: \", skew_rating)\n",
    "print(\"Kurtosis Rating: \", kurtosis_rating)"
   ]
  },
  {
   "cell_type": "markdown",
   "metadata": {},
   "source": [
    "**Kesimpulan**  \n",
    "Berdasarkan analisa outlier, dapat terlihat semua kolom memiliki skewness di bawah 0,05 dan di atas -0,05 dan justru mendekati 0, menandakan *data tidak skew* dan sudah dapat dikatakan terdistribusi normal. nilai kurtosis juga rata-rata menunjukkan angka kurang lebih -1. Artinya, *distribusi data cenderung datar*, namun distribusi dengan kurtosis negatif memiliki arti data cenderung memiliki ekor yang lebih lebar daripada distribusi normal standar"
   ]
  },
  {
   "cell_type": "markdown",
   "metadata": {},
   "source": [
    "### **Goals for Next Year Based on Historical Data**  \n"
   ]
  },
  {
   "cell_type": "markdown",
   "metadata": {},
   "source": [
    "\n",
    "Selanjutnya kita bisa mulai menghitung target dari SMART Goals kita, yaitu peningkatan revenue sales sebanyak 15%. kita dapat menggunakan metode statistik inferensial dari confidence interval berdasarkan data purchase amount tahun ini."
   ]
  },
  {
   "cell_type": "code",
   "execution_count": 56,
   "metadata": {},
   "outputs": [
    {
     "name": "stdout",
     "output_type": "stream",
     "text": [
      "Historical Data:\n",
      "Mean Purchase Amount: 59.76435897435898\n",
      "Confidence Interval 95%: 59.021003799812476 hingga 60.50771414890548\n",
      "\n",
      "Goals untuk tahun depan:\n",
      "Target Increase in Total Purchase Amount: 8.964653846153846\n",
      "Goal Mean Total Purchase Amount for Next Year: 68.72901282051282\n"
     ]
    }
   ],
   "source": [
    "# memasukkan data historis\n",
    "historical_data = df['Purchase Amount (USD)']\n",
    "\n",
    "# menghitung rata-rata dan standar deviasi dari data historis\n",
    "mean_purchase_amount = historical_data.mean()\n",
    "std_purchase_amount = historical_data.std()\n",
    "\n",
    "# impelementasi rumus confidence interval\n",
    "confidence_level = 0.95\n",
    "n = len(historical_data)\n",
    "margin_of_error = st.norm.ppf(1 - (1 - confidence_level) / 2) * (std_purchase_amount / np.sqrt(n))\n",
    "lower = mean_purchase_amount - margin_of_error\n",
    "upper = mean_purchase_amount + margin_of_error\n",
    "\n",
    "# Menetapkan goals untuk meningkatkan total purchase amount sebesar 15%\n",
    "\n",
    "increase_percentage = 0.15\n",
    "target_increase = mean_purchase_amount * increase_percentage\n",
    "goal_total_purchase = mean_purchase_amount + target_increase\n",
    "\n",
    "print(\"Historical Data:\")\n",
    "print(\"Mean Purchase Amount:\", mean_purchase_amount)\n",
    "print(\"Confidence Interval 95%:\", lower, \"hingga\", upper)\n",
    "print(\"\\nGoals untuk tahun depan:\")\n",
    "print(\"Target Increase in Total Purchase Amount:\", target_increase)\n",
    "print(\"Goal Mean Total Purchase Amount for Next Year:\", goal_total_purchase)\n"
   ]
  },
  {
   "cell_type": "markdown",
   "metadata": {},
   "source": [
    "**Kesimpulan**  \n",
    "Berdasarkan data historis, diketahui rata-rata purchase amount dari setiap pembelian adalah di angka US$59,764. dengan lower value dari confidence level 95% sebesar 59,021 dan upper value 60,507.\n",
    "\n",
    "Dengan target kenaikan sebesar 15% dari nilai rata-rata, maka **target rata-rata purchase amount di tahun berikutnya ada di angka  US$68,72 dari total pembelian tahun depan**. target ini lebih tinggi dari potensi maksimal rata-rata purchase amount tahun ini yaitu 60,57 dengan demikian maka akan dipastikan kenaikan revenue dari tahun ini ke tahun depan akan lebih baik dari potensi maksimal tahun ini apabila goals rata-rata purchase amount tercapai."
   ]
  },
  {
   "cell_type": "markdown",
   "metadata": {},
   "source": [
    "### **Total Purchase Amount and Sales by Gender Distribution**"
   ]
  },
  {
   "cell_type": "markdown",
   "metadata": {},
   "source": [
    "\n",
    "\n",
    "Memasuki ke bagian analisa pertama, kita akan menganalisis segmentasi kostumer terlebih dahulu, dari distribusi gender terhadap jumlah total sales. Dengan demikian kita akan mengetahui gender mana yang paling banyak melakukan transaksi dengan bisnis kita."
   ]
  },
  {
   "cell_type": "code",
   "execution_count": 57,
   "metadata": {},
   "outputs": [
    {
     "data": {
      "text/plain": [
       "Gender\n",
       "Male      2652\n",
       "Female    1248\n",
       "Name: count, dtype: int64"
      ]
     },
     "execution_count": 57,
     "metadata": {},
     "output_type": "execute_result"
    }
   ],
   "source": [
    "# Analisa distribusi transaksi pembelian berdasarkan gender\n",
    "\n",
    "gender_dist = df['Gender'].value_counts()\n",
    "gender_dist"
   ]
  },
  {
   "cell_type": "code",
   "execution_count": 58,
   "metadata": {},
   "outputs": [
    {
     "data": {
      "image/png": "[encoded data removed]",
      "text/plain": [
       "<Figure size 600x600 with 1 Axes>"
      ]
     },
     "metadata": {},
     "output_type": "display_data"
    }
   ],
   "source": [
    "# Visualisasi pie chart dari hasil distribusi\n",
    "\n",
    "plt.figure(figsize=(6, 6)) \n",
    "plt.pie(gender_dist, labels=gender_dist.index, autopct='%1.1f%%', startangle=140, colors=['skyblue', 'pink'])  # Warna biru untuk pria, pink untuk wanita\n",
    "plt.title('Gender Distribution')\n",
    "plt.show()\n",
    "\n"
   ]
  },
  {
   "cell_type": "code",
   "execution_count": 59,
   "metadata": {},
   "outputs": [
    {
     "data": {
      "image/png": "[encoded data removed]",
      "text/plain": [
       "<Figure size 800x500 with 1 Axes>"
      ]
     },
     "metadata": {},
     "output_type": "display_data"
    }
   ],
   "source": [
    "# Grouping data berdasarkan gender dengan purchase amount\n",
    "sales_by_gender = df.groupby('Gender')['Purchase Amount (USD)'].sum().reset_index()\n",
    "\n",
    "# Visualisasi menggunakan barchart  \n",
    "plt.figure(figsize=(8, 5))\n",
    "plt.bar(sales_by_gender['Gender'], sales_by_gender['Purchase Amount (USD)'], color=['pink', 'skyblue'])\n",
    "plt.title('Total Purchase Amount by Gender')\n",
    "plt.xlabel('Gender')\n",
    "plt.ylabel('Total Purchase Amount (USD)')\n",
    "plt.show()\n"
   ]
  },
  {
   "cell_type": "code",
   "execution_count": 60,
   "metadata": {},
   "outputs": [
    {
     "data": {
      "text/plain": [
       "Gender\n",
       "Female     75191\n",
       "Male      157890\n",
       "Name: Purchase Amount (USD), dtype: int64"
      ]
     },
     "execution_count": 60,
     "metadata": {},
     "output_type": "execute_result"
    }
   ],
   "source": [
    "# Menunjukkan nominal hasil perhitungan\n",
    "sales_by_gender = df.groupby('Gender')['Purchase Amount (USD)'].sum()\n",
    "sales_by_gender"
   ]
  },
  {
   "cell_type": "markdown",
   "metadata": {},
   "source": [
    "**Insight Visualisasi**  \n",
    "Berdasarkan analisa dan visualisasi, terlihat dalam setahun;  \n",
    "\n",
    "- jumlah pembeli terbanyak adalah pria sebesar 68% dengan angka 2652 pembeli, sementara wanita hanya 32% dengan angka total 1248 pembeli.  \n",
    "- Selain itu, total Purchase Amount gender laki-laki US$157890 lebih banyak dibandingkan wanita sebesar US$75191.  \n",
    "\n",
    "**Artinya produk kita lebih diminati gender pria dibandingkan gender wanita secara keseluruhan, maka perlu dipertimbangkan untuk strategi bisnis ke depan untuk lebih fokus dengan produk untuk pria, atau mengambil opportunity baru dengan mengekspansi mengambil market wanita yang belum optimal jumlahnya.** Namun, karena gender tentunya gender pada inovasi atau desain produk fashion, kita perlu untuk analisa lebih lanjut untuk memastikan segmentasi market, maka selanjutnya kita dapat menganalisa hipotesis terkait perbandingan rata-rata pembelian antar gender untuk mendapatkan gambaran potential market ekspansion berdasarkan gender yang lebih kecil porsinya, yaitu wanita."
   ]
  },
  {
   "cell_type": "markdown",
   "metadata": {},
   "source": [
    "### **Perbandingan Rata-rata Pembelian Setiap Gender**  \n"
   ]
  },
  {
   "cell_type": "markdown",
   "metadata": {},
   "source": [
    "\n",
    "Dengan menggunakan two sample independent t-test, kita dapat menguji hipotesa *apakah ada perbedaan yang signifikan dalam rata-rata pembelian antara pelanggan pria dan pelanggan wanita?*  \n",
    "\n",
    "**H0: Tidak Terdapat perbedaan antara rata-rata purchase amount pelanggan pria dengan rata-rata purchase amount pelanggan wanita**  \n",
    "**H1: Terdapat perbedaan antara rata-rata purchase amount pelanggan pria dengan rata-rata purchase amount pelanggan wanita**"
   ]
  },
  {
   "cell_type": "code",
   "execution_count": 61,
   "metadata": {},
   "outputs": [
    {
     "name": "stdout",
     "output_type": "stream",
     "text": [
      "P_value : 0.38058673555268097\n",
      "Gagal Menolak H0: Tidak Terdapat perbedaan antara rata-rata purchase amount pelanggan pria dengan rata-rata purchase amount pelanggan wanita\n"
     ]
    }
   ],
   "source": [
    "# Memisahkan data gender antara male dan female di kolom gender\n",
    "\n",
    "male_data = df[df['Gender'] == 'Male']\n",
    "female_data = df[df['Gender'] == 'Female']\n",
    "\n",
    "# masukkan ke rumus two sample t-test\n",
    "t_statistic, p_value = st.ttest_ind(male_data['Purchase Amount (USD)'], female_data['Purchase Amount (USD)'])\n",
    "\n",
    "# menentukan nilai alpha dan significance level\n",
    "alpha = 0.05\n",
    "print(\"P_value :\", p_value)\n",
    "\n",
    "if p_value < alpha:\n",
    "    print(\"Menolak H0: Terdapat perbedaan antara rata-rata purchase amount pelanggan pria dengan rata-rata purchase amount pelanggan wanita\")\n",
    "else:\n",
    "    print(\"Gagal Menolak H0: Tidak Terdapat perbedaan antara rata-rata purchase amount pelanggan pria dengan rata-rata purchase amount pelanggan wanita\")\n"
   ]
  },
  {
   "cell_type": "markdown",
   "metadata": {},
   "source": [
    "**Kesimpulan Test**  \n",
    "Berdasarkan two sample t-test yang dilakukan, hasilnya adalah Gagal Menolak H0: Tidak Terdapat perbedaan antara rata-rata purchase amount pelanggan pria dengan rata-rata purchase amount pelanggan wanita. **Artinya, rata-rata tingkat pembelian wanita tidak jauh beda dengan laki-laki, walaupun dari sisi jumlah dan purchase ampount  saat ini pelanggan laki-laki lebih banyak dari wanita. Dengan demikian, Perusahaan masih memiliki opportunity untuk melakukan ekspansi demografis menargetkan segment wanita ke depannya meski saat ini porsi gender wanita masih sedikit.**"
   ]
  },
  {
   "cell_type": "markdown",
   "metadata": {},
   "source": [
    "### **Total Purchase Amount by Age Group**\n"
   ]
  },
  {
   "cell_type": "markdown",
   "metadata": {},
   "source": [
    "\n",
    "Setelah kita mengetahui insight terkait gender, berikutnya kita perlu menganalisa terkait umur dari pelanggan. *Rentang umur pelangan yang mana yang paling banyak mengenerate revenue?* "
   ]
  },
  {
   "cell_type": "code",
   "execution_count": 62,
   "metadata": {},
   "outputs": [
    {
     "data": {
      "image/png": "[encoded data removed]",
      "text/plain": [
       "<Figure size 1000x600 with 1 Axes>"
      ]
     },
     "metadata": {},
     "output_type": "display_data"
    },
    {
     "name": "stdout",
     "output_type": "stream",
     "text": [
      "            Age Group  Purchase Amount (USD)\n",
      "0         Teens(0-18)                      0\n",
      "1  Young Adult(19-30)                  52905\n",
      "2        Adult(31-40)                  43541\n",
      "3   Middle Age(41-50)                  43225\n",
      "4      Old Age(51-60)                  46516\n",
      "5        Elderly(61+)                  43084\n"
     ]
    }
   ],
   "source": [
    "# Kategorikan rentang umur, membuat kolom age group yang berisi kategori umur menggunakan method .cut()\n",
    "bin = [0, 18, 30, 40, 50, 60, 70] \n",
    "label = ['Teens(0-18)', 'Young Adult(19-30)', 'Adult(31-40)', 'Middle Age(41-50)', 'Old Age(51-60)', 'Elderly(61+)']\n",
    "df['Age Group'] = pd.cut(df['Age'], bins=bin, labels=label, right=False)\n",
    "\n",
    "# Kelompokkan data berdasarkan rentang umur bandingkan dengan totaljumlah pembelian untuk setiap rentang umur\n",
    "sales_by_age_group = df.groupby('Age Group')['Purchase Amount (USD)'].sum().reset_index()\n",
    "\n",
    "# Visualisasi ke bentuk barchart\n",
    "plt.figure(figsize=(10, 6))\n",
    "plt.bar(sales_by_age_group['Age Group'], sales_by_age_group['Purchase Amount (USD)'], color='lightblue')\n",
    "plt.xlabel('Age Group')\n",
    "plt.ylabel('Purchase Amount (USD)')\n",
    "plt.title('Total Purchase Amount(USD) by Age Group')\n",
    "plt.show()\n",
    "\n",
    "print(sales_by_age_group)"
   ]
  },
  {
   "cell_type": "markdown",
   "metadata": {},
   "source": [
    "**Insight Visualisasi**  \n",
    "Berdasarkan analisa, terlihat rentang umur yang melakukan pembelian paling banyak adalah Young Adults(19-30) dengan jumlah US$52905 , dengan kedua terbesar ada di kategori Old Age(51-60) sebanyak US$46516. Namun banyaknya pembelian dari rentang umur lainnya tidak jauh berbeda dari kedua pembelian terbesar, dengan rata-rata berada di atas angka US$43000. Selain itu, tidak ada umur teens(0-18) yang membeli produk hal ini mencerminkan produk kita diminati oleh orang-orang yang lebih dewasa. **Dengan demikian, perusahaan dapat mencoba untuk memfokuskan strategi penjualan dan inovasi produk terhadap rentang umur 19 tahun ke atas agar penjualan dapat maksimal**"
   ]
  },
  {
   "cell_type": "markdown",
   "metadata": {},
   "source": [
    "### **Total Purchase Amount by Location**\n"
   ]
  },
  {
   "cell_type": "markdown",
   "metadata": {},
   "source": [
    "\n",
    "Selanjutnya, kita dapat menganalisa terkait wilayah yang paling banyak mengenerate revenue, untuk mengetahui wilayah mana yang perlu dikembangkan dan wilayah mana yang perlu dipertahankan atau ditingkatkan kinerjanya. "
   ]
  },
  {
   "cell_type": "code",
   "execution_count": 63,
   "metadata": {},
   "outputs": [
    {
     "data": {
      "text/html": [
       "<div>\n",
       "<style scoped>\n",
       "    .dataframe tbody tr th:only-of-type {\n",
       "        vertical-align: middle;\n",
       "    }\n",
       "\n",
       "    .dataframe tbody tr th {\n",
       "        vertical-align: top;\n",
       "    }\n",
       "\n",
       "    .dataframe thead th {\n",
       "        text-align: right;\n",
       "    }\n",
       "</style>\n",
       "<table border=\"1\" class=\"dataframe\">\n",
       "  <thead>\n",
       "    <tr style=\"text-align: right;\">\n",
       "      <th></th>\n",
       "      <th>Purchase Amount (USD)</th>\n",
       "    </tr>\n",
       "    <tr>\n",
       "      <th>Location</th>\n",
       "      <th></th>\n",
       "    </tr>\n",
       "  </thead>\n",
       "  <tbody>\n",
       "    <tr>\n",
       "      <th>Montana</th>\n",
       "      <td>5784</td>\n",
       "    </tr>\n",
       "    <tr>\n",
       "      <th>Illinois</th>\n",
       "      <td>5617</td>\n",
       "    </tr>\n",
       "    <tr>\n",
       "      <th>California</th>\n",
       "      <td>5605</td>\n",
       "    </tr>\n",
       "    <tr>\n",
       "      <th>Idaho</th>\n",
       "      <td>5587</td>\n",
       "    </tr>\n",
       "    <tr>\n",
       "      <th>Nevada</th>\n",
       "      <td>5514</td>\n",
       "    </tr>\n",
       "    <tr>\n",
       "      <th>Alabama</th>\n",
       "      <td>5261</td>\n",
       "    </tr>\n",
       "    <tr>\n",
       "      <th>New York</th>\n",
       "      <td>5257</td>\n",
       "    </tr>\n",
       "    <tr>\n",
       "      <th>North Dakota</th>\n",
       "      <td>5220</td>\n",
       "    </tr>\n",
       "    <tr>\n",
       "      <th>West Virginia</th>\n",
       "      <td>5174</td>\n",
       "    </tr>\n",
       "    <tr>\n",
       "      <th>Nebraska</th>\n",
       "      <td>5172</td>\n",
       "    </tr>\n",
       "    <tr>\n",
       "      <th>New Mexico</th>\n",
       "      <td>5014</td>\n",
       "    </tr>\n",
       "    <tr>\n",
       "      <th>Minnesota</th>\n",
       "      <td>4977</td>\n",
       "    </tr>\n",
       "    <tr>\n",
       "      <th>Pennsylvania</th>\n",
       "      <td>4926</td>\n",
       "    </tr>\n",
       "    <tr>\n",
       "      <th>Mississippi</th>\n",
       "      <td>4883</td>\n",
       "    </tr>\n",
       "    <tr>\n",
       "      <th>Alaska</th>\n",
       "      <td>4867</td>\n",
       "    </tr>\n",
       "    <tr>\n",
       "      <th>Vermont</th>\n",
       "      <td>4860</td>\n",
       "    </tr>\n",
       "    <tr>\n",
       "      <th>Louisiana</th>\n",
       "      <td>4848</td>\n",
       "    </tr>\n",
       "    <tr>\n",
       "      <th>Virginia</th>\n",
       "      <td>4842</td>\n",
       "    </tr>\n",
       "    <tr>\n",
       "      <th>Arkansas</th>\n",
       "      <td>4828</td>\n",
       "    </tr>\n",
       "    <tr>\n",
       "      <th>Maryland</th>\n",
       "      <td>4795</td>\n",
       "    </tr>\n",
       "    <tr>\n",
       "      <th>Tennessee</th>\n",
       "      <td>4772</td>\n",
       "    </tr>\n",
       "    <tr>\n",
       "      <th>Delaware</th>\n",
       "      <td>4758</td>\n",
       "    </tr>\n",
       "    <tr>\n",
       "      <th>North Carolina</th>\n",
       "      <td>4742</td>\n",
       "    </tr>\n",
       "    <tr>\n",
       "      <th>Texas</th>\n",
       "      <td>4712</td>\n",
       "    </tr>\n",
       "    <tr>\n",
       "      <th>Missouri</th>\n",
       "      <td>4691</td>\n",
       "    </tr>\n",
       "    <tr>\n",
       "      <th>Indiana</th>\n",
       "      <td>4655</td>\n",
       "    </tr>\n",
       "    <tr>\n",
       "      <th>Ohio</th>\n",
       "      <td>4649</td>\n",
       "    </tr>\n",
       "    <tr>\n",
       "      <th>Georgia</th>\n",
       "      <td>4645</td>\n",
       "    </tr>\n",
       "    <tr>\n",
       "      <th>Washington</th>\n",
       "      <td>4623</td>\n",
       "    </tr>\n",
       "    <tr>\n",
       "      <th>Michigan</th>\n",
       "      <td>4533</td>\n",
       "    </tr>\n",
       "    <tr>\n",
       "      <th>Utah</th>\n",
       "      <td>4443</td>\n",
       "    </tr>\n",
       "    <tr>\n",
       "      <th>South Carolina</th>\n",
       "      <td>4439</td>\n",
       "    </tr>\n",
       "    <tr>\n",
       "      <th>Kentucky</th>\n",
       "      <td>4402</td>\n",
       "    </tr>\n",
       "    <tr>\n",
       "      <th>Maine</th>\n",
       "      <td>4388</td>\n",
       "    </tr>\n",
       "    <tr>\n",
       "      <th>Massachusetts</th>\n",
       "      <td>4384</td>\n",
       "    </tr>\n",
       "    <tr>\n",
       "      <th>Oklahoma</th>\n",
       "      <td>4376</td>\n",
       "    </tr>\n",
       "    <tr>\n",
       "      <th>Arizona</th>\n",
       "      <td>4326</td>\n",
       "    </tr>\n",
       "    <tr>\n",
       "      <th>Wyoming</th>\n",
       "      <td>4309</td>\n",
       "    </tr>\n",
       "    <tr>\n",
       "      <th>Oregon</th>\n",
       "      <td>4243</td>\n",
       "    </tr>\n",
       "    <tr>\n",
       "      <th>South Dakota</th>\n",
       "      <td>4236</td>\n",
       "    </tr>\n",
       "    <tr>\n",
       "      <th>Connecticut</th>\n",
       "      <td>4226</td>\n",
       "    </tr>\n",
       "    <tr>\n",
       "      <th>Colorado</th>\n",
       "      <td>4222</td>\n",
       "    </tr>\n",
       "    <tr>\n",
       "      <th>New Hampshire</th>\n",
       "      <td>4219</td>\n",
       "    </tr>\n",
       "    <tr>\n",
       "      <th>Iowa</th>\n",
       "      <td>4201</td>\n",
       "    </tr>\n",
       "    <tr>\n",
       "      <th>Wisconsin</th>\n",
       "      <td>4196</td>\n",
       "    </tr>\n",
       "    <tr>\n",
       "      <th>Rhode Island</th>\n",
       "      <td>3871</td>\n",
       "    </tr>\n",
       "    <tr>\n",
       "      <th>New Jersey</th>\n",
       "      <td>3802</td>\n",
       "    </tr>\n",
       "    <tr>\n",
       "      <th>Florida</th>\n",
       "      <td>3798</td>\n",
       "    </tr>\n",
       "    <tr>\n",
       "      <th>Hawaii</th>\n",
       "      <td>3752</td>\n",
       "    </tr>\n",
       "    <tr>\n",
       "      <th>Kansas</th>\n",
       "      <td>3437</td>\n",
       "    </tr>\n",
       "  </tbody>\n",
       "</table>\n",
       "</div>"
      ],
      "text/plain": [
       "                Purchase Amount (USD)\n",
       "Location                             \n",
       "Montana                          5784\n",
       "Illinois                         5617\n",
       "California                       5605\n",
       "Idaho                            5587\n",
       "Nevada                           5514\n",
       "Alabama                          5261\n",
       "New York                         5257\n",
       "North Dakota                     5220\n",
       "West Virginia                    5174\n",
       "Nebraska                         5172\n",
       "New Mexico                       5014\n",
       "Minnesota                        4977\n",
       "Pennsylvania                     4926\n",
       "Mississippi                      4883\n",
       "Alaska                           4867\n",
       "Vermont                          4860\n",
       "Louisiana                        4848\n",
       "Virginia                         4842\n",
       "Arkansas                         4828\n",
       "Maryland                         4795\n",
       "Tennessee                        4772\n",
       "Delaware                         4758\n",
       "North Carolina                   4742\n",
       "Texas                            4712\n",
       "Missouri                         4691\n",
       "Indiana                          4655\n",
       "Ohio                             4649\n",
       "Georgia                          4645\n",
       "Washington                       4623\n",
       "Michigan                         4533\n",
       "Utah                             4443\n",
       "South Carolina                   4439\n",
       "Kentucky                         4402\n",
       "Maine                            4388\n",
       "Massachusetts                    4384\n",
       "Oklahoma                         4376\n",
       "Arizona                          4326\n",
       "Wyoming                          4309\n",
       "Oregon                           4243\n",
       "South Dakota                     4236\n",
       "Connecticut                      4226\n",
       "Colorado                         4222\n",
       "New Hampshire                    4219\n",
       "Iowa                             4201\n",
       "Wisconsin                        4196\n",
       "Rhode Island                     3871\n",
       "New Jersey                       3802\n",
       "Florida                          3798\n",
       "Hawaii                           3752\n",
       "Kansas                           3437"
      ]
     },
     "execution_count": 63,
     "metadata": {},
     "output_type": "execute_result"
    }
   ],
   "source": [
    "# Mengelompokkan Lokasi berdasarkan total Purchase Amount (USD)  \n",
    "\n",
    "sales_by_location = df[['Location','Purchase Amount (USD)']].groupby('Location').sum().sort_values(by='Purchase Amount (USD)', ascending=False)\n",
    "sales_by_location"
   ]
  },
  {
   "cell_type": "code",
   "execution_count": 64,
   "metadata": {},
   "outputs": [
    {
     "data": {
      "text/plain": [
       "Purchase Amount (USD)    4661.62\n",
       "dtype: float64"
      ]
     },
     "execution_count": 64,
     "metadata": {},
     "output_type": "execute_result"
    }
   ],
   "source": [
    "# Mengetahui rata-rata penjualan semua lokasi\n",
    "sales_by_location.mean()"
   ]
  },
  {
   "cell_type": "code",
   "execution_count": 65,
   "metadata": {},
   "outputs": [
    {
     "data": {
      "application/vnd.plotly.v1+json": {
       "config": {
        "plotlyServerURL": "https://plot.ly"
       },
       "data": [
        {
         "alignmentgroup": "True",
         "hovertemplate": "Location=%{x}<br>Purchase Amount (USD)=%{y}<extra></extra>",
         "legendgroup": "",
         "marker": {
          "color": "#636efa",
          "pattern": {
           "shape": ""
          }
         },
         "name": "",
         "offsetgroup": "",
         "orientation": "v",
         "showlegend": false,
         "textposition": "auto",
         "type": "bar",
         "x": [
          "Montana",
          "Illinois",
          "California",
          "Idaho",
          "Nevada",
          "Alabama",
          "New York",
          "North Dakota",
          "West Virginia",
          "Nebraska",
          "New Mexico",
          "Minnesota",
          "Pennsylvania",
          "Mississippi",
          "Alaska",
          "Vermont",
          "Louisiana",
          "Virginia",
          "Arkansas",
          "Maryland",
          "Tennessee",
          "Delaware",
          "North Carolina",
          "Texas",
          "Missouri",
          "Indiana",
          "Ohio",
          "Georgia",
          "Washington",
          "Michigan",
          "Utah",
          "South Carolina",
          "Kentucky",
          "Maine",
          "Massachusetts",
          "Oklahoma",
          "Arizona",
          "Wyoming",
          "Oregon",
          "South Dakota",
          "Connecticut",
          "Colorado",
          "New Hampshire",
          "Iowa",
          "Wisconsin",
          "Rhode Island",
          "New Jersey",
          "Florida",
          "Hawaii",
          "Kansas"
         ],
         "xaxis": "x",
         "y": [
          5784,
          5617,
          5605,
          5587,
          5514,
          5261,
          5257,
          5220,
          5174,
          5172,
          5014,
          4977,
          4926,
          4883,
          4867,
          4860,
          4848,
          4842,
          4828,
          4795,
          4772,
          4758,
          4742,
          4712,
          4691,
          4655,
          4649,
          4645,
          4623,
          4533,
          4443,
          4439,
          4402,
          4388,
          4384,
          4376,
          4326,
          4309,
          4243,
          4236,
          4226,
          4222,
          4219,
          4201,
          4196,
          3871,
          3802,
          3798,
          3752,
          3437
         ],
         "yaxis": "y"
        }
       ],
       "layout": {
        "barmode": "relative",
        "legend": {
         "tracegroupgap": 0
        },
        "margin": {
         "t": 60
        },
        "template": {
         "data": {
          "bar": [
           {
            "error_x": {
             "color": "#2a3f5f"
            },
            "error_y": {
             "color": "#2a3f5f"
            },
            "marker": {
             "line": {
              "color": "#E5ECF6",
              "width": 0.5
             },
             "pattern": {
              "fillmode": "overlay",
              "size": 10,
              "solidity": 0.2
             }
            },
            "type": "bar"
           }
          ],
          "barpolar": [
           {
            "marker": {
             "line": {
              "color": "#E5ECF6",
              "width": 0.5
             },
             "pattern": {
              "fillmode": "overlay",
              "size": 10,
              "solidity": 0.2
             }
            },
            "type": "barpolar"
           }
          ],
          "carpet": [
           {
            "aaxis": {
             "endlinecolor": "#2a3f5f",
             "gridcolor": "white",
             "linecolor": "white",
             "minorgridcolor": "white",
             "startlinecolor": "#2a3f5f"
            },
            "baxis": {
             "endlinecolor": "#2a3f5f",
             "gridcolor": "white",
             "linecolor": "white",
             "minorgridcolor": "white",
             "startlinecolor": "#2a3f5f"
            },
            "type": "carpet"
           }
          ],
          "choropleth": [
           {
            "colorbar": {
             "outlinewidth": 0,
             "ticks": ""
            },
            "type": "choropleth"
           }
          ],
          "contour": [
           {
            "colorbar": {
             "outlinewidth": 0,
             "ticks": ""
            },
            "colorscale": [
             [
              0,
              "#0d0887"
             ],
             [
              0.1111111111111111,
              "#46039f"
             ],
             [
              0.2222222222222222,
              "#7201a8"
             ],
             [
              0.3333333333333333,
              "#9c179e"
             ],
             [
              0.4444444444444444,
              "#bd3786"
             ],
             [
              0.5555555555555556,
              "#d8576b"
             ],
             [
              0.6666666666666666,
              "#ed7953"
             ],
             [
              0.7777777777777778,
              "#fb9f3a"
             ],
             [
              0.8888888888888888,
              "#fdca26"
             ],
             [
              1,
              "#f0f921"
             ]
            ],
            "type": "contour"
           }
          ],
          "contourcarpet": [
           {
            "colorbar": {
             "outlinewidth": 0,
             "ticks": ""
            },
            "type": "contourcarpet"
           }
          ],
          "heatmap": [
           {
            "colorbar": {
             "outlinewidth": 0,
             "ticks": ""
            },
            "colorscale": [
             [
              0,
              "#0d0887"
             ],
             [
              0.1111111111111111,
              "#46039f"
             ],
             [
              0.2222222222222222,
              "#7201a8"
             ],
             [
              0.3333333333333333,
              "#9c179e"
             ],
             [
              0.4444444444444444,
              "#bd3786"
             ],
             [
              0.5555555555555556,
              "#d8576b"
             ],
             [
              0.6666666666666666,
              "#ed7953"
             ],
             [
              0.7777777777777778,
              "#fb9f3a"
             ],
             [
              0.8888888888888888,
              "#fdca26"
             ],
             [
              1,
              "#f0f921"
             ]
            ],
            "type": "heatmap"
           }
          ],
          "heatmapgl": [
           {
            "colorbar": {
             "outlinewidth": 0,
             "ticks": ""
            },
            "colorscale": [
             [
              0,
              "#0d0887"
             ],
             [
              0.1111111111111111,
              "#46039f"
             ],
             [
              0.2222222222222222,
              "#7201a8"
             ],
             [
              0.3333333333333333,
              "#9c179e"
             ],
             [
              0.4444444444444444,
              "#bd3786"
             ],
             [
              0.5555555555555556,
              "#d8576b"
             ],
             [
              0.6666666666666666,
              "#ed7953"
             ],
             [
              0.7777777777777778,
              "#fb9f3a"
             ],
             [
              0.8888888888888888,
              "#fdca26"
             ],
             [
              1,
              "#f0f921"
             ]
            ],
            "type": "heatmapgl"
           }
          ],
          "histogram": [
           {
            "marker": {
             "pattern": {
              "fillmode": "overlay",
              "size": 10,
              "solidity": 0.2
             }
            },
            "type": "histogram"
           }
          ],
          "histogram2d": [
           {
            "colorbar": {
             "outlinewidth": 0,
             "ticks": ""
            },
            "colorscale": [
             [
              0,
              "#0d0887"
             ],
             [
              0.1111111111111111,
              "#46039f"
             ],
             [
              0.2222222222222222,
              "#7201a8"
             ],
             [
              0.3333333333333333,
              "#9c179e"
             ],
             [
              0.4444444444444444,
              "#bd3786"
             ],
             [
              0.5555555555555556,
              "#d8576b"
             ],
             [
              0.6666666666666666,
              "#ed7953"
             ],
             [
              0.7777777777777778,
              "#fb9f3a"
             ],
             [
              0.8888888888888888,
              "#fdca26"
             ],
             [
              1,
              "#f0f921"
             ]
            ],
            "type": "histogram2d"
           }
          ],
          "histogram2dcontour": [
           {
            "colorbar": {
             "outlinewidth": 0,
             "ticks": ""
            },
            "colorscale": [
             [
              0,
              "#0d0887"
             ],
             [
              0.1111111111111111,
              "#46039f"
             ],
             [
              0.2222222222222222,
              "#7201a8"
             ],
             [
              0.3333333333333333,
              "#9c179e"
             ],
             [
              0.4444444444444444,
              "#bd3786"
             ],
             [
              0.5555555555555556,
              "#d8576b"
             ],
             [
              0.6666666666666666,
              "#ed7953"
             ],
             [
              0.7777777777777778,
              "#fb9f3a"
             ],
             [
              0.8888888888888888,
              "#fdca26"
             ],
             [
              1,
              "#f0f921"
             ]
            ],
            "type": "histogram2dcontour"
           }
          ],
          "mesh3d": [
           {
            "colorbar": {
             "outlinewidth": 0,
             "ticks": ""
            },
            "type": "mesh3d"
           }
          ],
          "parcoords": [
           {
            "line": {
             "colorbar": {
              "outlinewidth": 0,
              "ticks": ""
             }
            },
            "type": "parcoords"
           }
          ],
          "pie": [
           {
            "automargin": true,
            "type": "pie"
           }
          ],
          "scatter": [
           {
            "fillpattern": {
             "fillmode": "overlay",
             "size": 10,
             "solidity": 0.2
            },
            "type": "scatter"
           }
          ],
          "scatter3d": [
           {
            "line": {
             "colorbar": {
              "outlinewidth": 0,
              "ticks": ""
             }
            },
            "marker": {
             "colorbar": {
              "outlinewidth": 0,
              "ticks": ""
             }
            },
            "type": "scatter3d"
           }
          ],
          "scattercarpet": [
           {
            "marker": {
             "colorbar": {
              "outlinewidth": 0,
              "ticks": ""
             }
            },
            "type": "scattercarpet"
           }
          ],
          "scattergeo": [
           {
            "marker": {
             "colorbar": {
              "outlinewidth": 0,
              "ticks": ""
             }
            },
            "type": "scattergeo"
           }
          ],
          "scattergl": [
           {
            "marker": {
             "colorbar": {
              "outlinewidth": 0,
              "ticks": ""
             }
            },
            "type": "scattergl"
           }
          ],
          "scattermapbox": [
           {
            "marker": {
             "colorbar": {
              "outlinewidth": 0,
              "ticks": ""
             }
            },
            "type": "scattermapbox"
           }
          ],
          "scatterpolar": [
           {
            "marker": {
             "colorbar": {
              "outlinewidth": 0,
              "ticks": ""
             }
            },
            "type": "scatterpolar"
           }
          ],
          "scatterpolargl": [
           {
            "marker": {
             "colorbar": {
              "outlinewidth": 0,
              "ticks": ""
             }
            },
            "type": "scatterpolargl"
           }
          ],
          "scatterternary": [
           {
            "marker": {
             "colorbar": {
              "outlinewidth": 0,
              "ticks": ""
             }
            },
            "type": "scatterternary"
           }
          ],
          "surface": [
           {
            "colorbar": {
             "outlinewidth": 0,
             "ticks": ""
            },
            "colorscale": [
             [
              0,
              "#0d0887"
             ],
             [
              0.1111111111111111,
              "#46039f"
             ],
             [
              0.2222222222222222,
              "#7201a8"
             ],
             [
              0.3333333333333333,
              "#9c179e"
             ],
             [
              0.4444444444444444,
              "#bd3786"
             ],
             [
              0.5555555555555556,
              "#d8576b"
             ],
             [
              0.6666666666666666,
              "#ed7953"
             ],
             [
              0.7777777777777778,
              "#fb9f3a"
             ],
             [
              0.8888888888888888,
              "#fdca26"
             ],
             [
              1,
              "#f0f921"
             ]
            ],
            "type": "surface"
           }
          ],
          "table": [
           {
            "cells": {
             "fill": {
              "color": "#EBF0F8"
             },
             "line": {
              "color": "white"
             }
            },
            "header": {
             "fill": {
              "color": "#C8D4E3"
             },
             "line": {
              "color": "white"
             }
            },
            "type": "table"
           }
          ]
         },
         "layout": {
          "annotationdefaults": {
           "arrowcolor": "#2a3f5f",
           "arrowhead": 0,
           "arrowwidth": 1
          },
          "autotypenumbers": "strict",
          "coloraxis": {
           "colorbar": {
            "outlinewidth": 0,
            "ticks": ""
           }
          },
          "colorscale": {
           "diverging": [
            [
             0,
             "#8e0152"
            ],
            [
             0.1,
             "#c51b7d"
            ],
            [
             0.2,
             "#de77ae"
            ],
            [
             0.3,
             "#f1b6da"
            ],
            [
             0.4,
             "#fde0ef"
            ],
            [
             0.5,
             "#f7f7f7"
            ],
            [
             0.6,
             "#e6f5d0"
            ],
            [
             0.7,
             "#b8e186"
            ],
            [
             0.8,
             "#7fbc41"
            ],
            [
             0.9,
             "#4d9221"
            ],
            [
             1,
             "#276419"
            ]
           ],
           "sequential": [
            [
             0,
             "#0d0887"
            ],
            [
             0.1111111111111111,
             "#46039f"
            ],
            [
             0.2222222222222222,
             "#7201a8"
            ],
            [
             0.3333333333333333,
             "#9c179e"
            ],
            [
             0.4444444444444444,
             "#bd3786"
            ],
            [
             0.5555555555555556,
             "#d8576b"
            ],
            [
             0.6666666666666666,
             "#ed7953"
            ],
            [
             0.7777777777777778,
             "#fb9f3a"
            ],
            [
             0.8888888888888888,
             "#fdca26"
            ],
            [
             1,
             "#f0f921"
            ]
           ],
           "sequentialminus": [
            [
             0,
             "#0d0887"
            ],
            [
             0.1111111111111111,
             "#46039f"
            ],
            [
             0.2222222222222222,
             "#7201a8"
            ],
            [
             0.3333333333333333,
             "#9c179e"
            ],
            [
             0.4444444444444444,
             "#bd3786"
            ],
            [
             0.5555555555555556,
             "#d8576b"
            ],
            [
             0.6666666666666666,
             "#ed7953"
            ],
            [
             0.7777777777777778,
             "#fb9f3a"
            ],
            [
             0.8888888888888888,
             "#fdca26"
            ],
            [
             1,
             "#f0f921"
            ]
           ]
          },
          "colorway": [
           "#636efa",
           "#EF553B",
           "#00cc96",
           "#ab63fa",
           "#FFA15A",
           "#19d3f3",
           "#FF6692",
           "#B6E880",
           "#FF97FF",
           "#FECB52"
          ],
          "font": {
           "color": "#2a3f5f"
          },
          "geo": {
           "bgcolor": "white",
           "lakecolor": "white",
           "landcolor": "#E5ECF6",
           "showlakes": true,
           "showland": true,
           "subunitcolor": "white"
          },
          "hoverlabel": {
           "align": "left"
          },
          "hovermode": "closest",
          "mapbox": {
           "style": "light"
          },
          "paper_bgcolor": "white",
          "plot_bgcolor": "#E5ECF6",
          "polar": {
           "angularaxis": {
            "gridcolor": "white",
            "linecolor": "white",
            "ticks": ""
           },
           "bgcolor": "#E5ECF6",
           "radialaxis": {
            "gridcolor": "white",
            "linecolor": "white",
            "ticks": ""
           }
          },
          "scene": {
           "xaxis": {
            "backgroundcolor": "#E5ECF6",
            "gridcolor": "white",
            "gridwidth": 2,
            "linecolor": "white",
            "showbackground": true,
            "ticks": "",
            "zerolinecolor": "white"
           },
           "yaxis": {
            "backgroundcolor": "#E5ECF6",
            "gridcolor": "white",
            "gridwidth": 2,
            "linecolor": "white",
            "showbackground": true,
            "ticks": "",
            "zerolinecolor": "white"
           },
           "zaxis": {
            "backgroundcolor": "#E5ECF6",
            "gridcolor": "white",
            "gridwidth": 2,
            "linecolor": "white",
            "showbackground": true,
            "ticks": "",
            "zerolinecolor": "white"
           }
          },
          "shapedefaults": {
           "line": {
            "color": "#2a3f5f"
           }
          },
          "ternary": {
           "aaxis": {
            "gridcolor": "white",
            "linecolor": "white",
            "ticks": ""
           },
           "baxis": {
            "gridcolor": "white",
            "linecolor": "white",
            "ticks": ""
           },
           "bgcolor": "#E5ECF6",
           "caxis": {
            "gridcolor": "white",
            "linecolor": "white",
            "ticks": ""
           }
          },
          "title": {
           "x": 0.05
          },
          "xaxis": {
           "automargin": true,
           "gridcolor": "white",
           "linecolor": "white",
           "ticks": "",
           "title": {
            "standoff": 15
           },
           "zerolinecolor": "white",
           "zerolinewidth": 2
          },
          "yaxis": {
           "automargin": true,
           "gridcolor": "white",
           "linecolor": "white",
           "ticks": "",
           "title": {
            "standoff": 15
           },
           "zerolinecolor": "white",
           "zerolinewidth": 2
          }
         }
        },
        "title": {
         "text": "Total Purchase Amount by Location"
        },
        "xaxis": {
         "anchor": "y",
         "domain": [
          0,
          1
         ],
         "title": {
          "text": "Location"
         }
        },
        "yaxis": {
         "anchor": "x",
         "domain": [
          0,
          1
         ],
         "title": {
          "text": "Total Purchase Amount (USD)"
         }
        }
       }
      }
     },
     "metadata": {},
     "output_type": "display_data"
    }
   ],
   "source": [
    "\n",
    "# mengroup data dan mereset index \n",
    "grouped_location = df[['Location', 'Purchase Amount (USD)']].groupby('Location').sum().sort_values(by='Purchase Amount (USD)', ascending=False).reset_index()\n",
    "\n",
    "# Visualisasi menggunakan bar \n",
    "fig = px.bar(grouped_location, x='Location', y='Purchase Amount (USD)', orientation='v')\n",
    "fig.update_layout(title='Total Purchase Amount by Location',\n",
    "                  xaxis_title='Location',\n",
    "                  yaxis_title='Total Purchase Amount (USD)')\n",
    "fig.show()\n"
   ]
  },
  {
   "cell_type": "markdown",
   "metadata": {},
   "source": [
    "**Insight Visualisasi** \n",
    "\n",
    "Berdasarkan analisa lokasi, didapatkan bahwa rata-rata penjualan di seluruh lokasi adalah US$4661.62, dan ada 25 kota yang memiliki value di atas rata-rata. top 5 lokasi yang mengenerate value terbanyak;  \n",
    "\n",
    "1. Montana\tsebesar US$5784\n",
    "2. Illinois\tsebesar US$5617\n",
    "3. California sebesar US$5605\n",
    "4. Idaho\tsebesar US$5587\n",
    "5. Nevada\tsebesar US$5514\n",
    "\n",
    "Sementara itu, terdapat 25 kota yang memiliki value di bawah rata-rata, dengan yang paling buruk performanya adalah;\n",
    "\n",
    "1. Kansas\tUS$3437\n",
    "2. Hawaii\tUS$3752\n",
    "3. Florida\tUS$3798\n",
    "4. New Jersey\tUS$3802\n",
    "5. Rhode Island\tUS$S3871\n",
    "\n",
    "**Dengan demikian, dapat dikatakan baru 50% performa kota maksimal, 50% sisanya masih perlu dikembangkan. Perusahaan perlu meningkatkan kinerja 25 kota yang memiliki value di bawah rata-rata dan mempertahankan 25 kota yang performanya sudah baik.**"
   ]
  },
  {
   "cell_type": "markdown",
   "metadata": {},
   "source": [
    "### **Total Purchase Amount by Season**  \n"
   ]
  },
  {
   "cell_type": "markdown",
   "metadata": {},
   "source": [
    "\n",
    "Setelah mengetahui penyebaran revenue berdasarkan lokasi, kita perlu menganalisa kapan peak season yang memiliki revenue tertinggi, untuk menganalisa kinerja perusahaan tiap season."
   ]
  },
  {
   "cell_type": "code",
   "execution_count": 66,
   "metadata": {},
   "outputs": [
    {
     "data": {
      "image/png": "[encoded data removed]",
      "text/plain": [
       "<Figure size 800x500 with 1 Axes>"
      ]
     },
     "metadata": {},
     "output_type": "display_data"
    }
   ],
   "source": [
    "# Grouping season dengan purchase amount\n",
    "sales_by_season = df.groupby('Season')['Purchase Amount (USD)'].sum().reset_index()\n",
    "\n",
    "# Visualisasi Data\n",
    "plt.figure(figsize=(8, 5))\n",
    "plt.bar(sales_by_season['Season'], sales_by_season['Purchase Amount (USD)'], color='lightgreen')\n",
    "plt.title('Total Sales by Season')\n",
    "plt.xlabel('Season')\n",
    "plt.ylabel('Total Sales (USD)')\n",
    "plt.show()\n"
   ]
  },
  {
   "cell_type": "code",
   "execution_count": 67,
   "metadata": {},
   "outputs": [
    {
     "data": {
      "text/plain": [
       "Season\n",
       "Fall      60018\n",
       "Spring    58679\n",
       "Summer    55777\n",
       "Winter    58607\n",
       "Name: Purchase Amount (USD), dtype: int64"
      ]
     },
     "execution_count": 67,
     "metadata": {},
     "output_type": "execute_result"
    }
   ],
   "source": [
    "sales_by_season = df.groupby('Season')['Purchase Amount (USD)'].sum()\n",
    "sales_by_season"
   ]
  },
  {
   "cell_type": "markdown",
   "metadata": {},
   "source": [
    "**Insight Visualisasi**  \n",
    "Berdasarkan analisa dan visualisasi, terlihat dalam penjualan dalam setahun, Total amount purchased masing-masing musim tidak terpaut jauh dari satu dengan lainnya, namun **yang mengenerate revenue terbanyak adalah saat falls, yaitu sebanyak US$60018 dan yang paling sedikit adalah saat Summer sebanyak US$55777. Dengan demikian, perusahaan dapat mencoba untuk melakukan promosi untuk mendorong sales di salah satu atau kedua season tersebut.**"
   ]
  },
  {
   "cell_type": "markdown",
   "metadata": {},
   "source": [
    "### **Best Selling Products**  "
   ]
  },
  {
   "cell_type": "markdown",
   "metadata": {},
   "source": [
    "Selanjutnya kita bisa mulai masuk ke analisa produk berdasarkan tingkat penjualan per produk. "
   ]
  },
  {
   "cell_type": "code",
   "execution_count": 68,
   "metadata": {},
   "outputs": [
    {
     "data": {
      "image/png": "[encoded data removed]",
      "text/plain": [
       "<Figure size 1000x600 with 1 Axes>"
      ]
     },
     "metadata": {},
     "output_type": "display_data"
    },
    {
     "name": "stdout",
     "output_type": "stream",
     "text": [
      "3 produk terlaris:    Item Purchased  Purchase Amount (USD)\n",
      "0         Blouse                  10410\n",
      "1          Shirt                  10332\n",
      "2          Dress                  10320\n",
      "3 produk kurang laku:     Item Purchased  Purchase Amount (USD)\n",
      "22       Sneakers                   8635\n",
      "23         Gloves                   8477\n",
      "24          Jeans                   7548\n"
     ]
    }
   ],
   "source": [
    "# Menghitung jumlah penjualan masing-masing product \n",
    "product_sales = df[['Item Purchased', 'Purchase Amount (USD)']].groupby('Item Purchased').sum().sort_values(by='Purchase Amount (USD)', ascending=False).reset_index()\n",
    "\n",
    "# Visualisasikan produk yang paling laku\n",
    "plt.figure(figsize=(10, 6))\n",
    "plt.bar(product_sales['Item Purchased'], product_sales['Purchase Amount (USD)'], color='skyblue')\n",
    "plt.xlabel('Item Purchased')\n",
    "plt.ylabel('Total Purchase Amount (USD)')\n",
    "plt.title('Total Purchase Amount by Item')\n",
    "plt.xticks(rotation=90)  # Rotasi label agar tidak bertumpuk\n",
    "plt.tight_layout()\n",
    "plt.show()\n",
    "\n",
    "\n",
    "print(\"3 produk terlaris: \", product_sales.head(3))\n",
    "\n",
    "print(\"3 produk kurang laku: \", product_sales.tail(3))"
   ]
  },
  {
   "cell_type": "markdown",
   "metadata": {},
   "source": [
    "**Insight Visualisasi**  \n",
    "Berdasarkan analisa dan visualisasi, terlihat dalam setahun, Produk yang terlaris adalah Blouse, di angka US$10410, diikuti Shirt dan Dress. Sementara produk yang paling tidak laku adalah Jeans yang hanya mengenerate sales revenue sebesar US$7548, diikuti Gloves dan Sneakers. Secara garis besar semua lini produk terjual dengan baik, kecuali Jeans. **Dengan demikian, Perusahaan dapat fokus untuk memperbanyak stok blouse, shirt dan dress karena banyak diminati pelanggan, serta performa dari jeans harus dikembangkan lagi**, karena termasuk produk yang sepatutnya banyak di beli di toko fashion lainnya secara general. sementara untuk backpack dan gloves memiliki angka yang wajar karena termasuk produk yang niche dan jarang dibeli dalam jumlah banyak secara general."
   ]
  },
  {
   "cell_type": "markdown",
   "metadata": {},
   "source": [
    "### **Sales by Size and Colours**  "
   ]
  },
  {
   "cell_type": "markdown",
   "metadata": {},
   "source": [
    "setelah mengetahui produk yang paling diminati, selanjutnya kita bisa menganalisa warna dan ukuran apa yang paling diminati pelanggan. Hal ini dapat dihitung dari frekuensi pembelian berdasarkan warna, dan ukuran dari tiap produk selama setahun."
   ]
  },
  {
   "cell_type": "code",
   "execution_count": 69,
   "metadata": {},
   "outputs": [
    {
     "name": "stdout",
     "output_type": "stream",
     "text": [
      " Ukuran paling diminati: \n",
      "Size\n",
      "M     1755\n",
      "L     1053\n",
      "S      663\n",
      "XL     429\n",
      "Name: count, dtype: int64\n",
      "\n",
      "Warna paling diminati: \n",
      "Color\n",
      "Olive     177\n",
      "Yellow    174\n",
      "Silver    173\n",
      "Teal      172\n",
      "Green     169\n",
      "Name: count, dtype: int64\n"
     ]
    },
    {
     "data": {
      "image/png": "[encoded data removed]",
      "text/plain": [
       "<Figure size 1000x500 with 1 Axes>"
      ]
     },
     "metadata": {},
     "output_type": "display_data"
    },
    {
     "data": {
      "image/png": "[encoded data removed]",
      "text/plain": [
       "<Figure size 800x500 with 1 Axes>"
      ]
     },
     "metadata": {},
     "output_type": "display_data"
    },
    {
     "data": {
      "text/plain": [
       "<Figure size 640x480 with 0 Axes>"
      ]
     },
     "metadata": {},
     "output_type": "display_data"
    }
   ],
   "source": [
    "# Hitung frekuensi pembelian ukuran dan warna\n",
    "size_counts = df['Size'].value_counts()\n",
    "color_counts = df['Color'].value_counts()\n",
    "\n",
    "print(\" Ukuran paling diminati: \")\n",
    "print(size_counts)\n",
    "print(\"\\nWarna paling diminati: \")\n",
    "print(color_counts.head(5))\n",
    "\n",
    "# Visualisasi ukuran\n",
    "plt.figure(figsize=(10, 5))\n",
    "plt.subplot(1, 2, 1)\n",
    "plt.pie(size_counts, labels=size_counts.index, autopct='%1.1f%%', colors=['lightblue', 'lightgreen', 'lightcoral', 'lightsalmon'])\n",
    "plt.title('Sales by Size')\n",
    "\n",
    "# Visualisasi warna\n",
    "plt.figure(figsize=(8, 5))\n",
    "color_counts.plot(kind='bar', color='lightgreen')\n",
    "plt.title('Sales by colors')\n",
    "plt.xlabel('Color')\n",
    "plt.ylabel('Sales')\n",
    "plt.tight_layout()\n",
    "plt.show()\n",
    "\n",
    "\n",
    "plt.tight_layout()\n",
    "plt.show()\n",
    "\n"
   ]
  },
  {
   "cell_type": "markdown",
   "metadata": {},
   "source": [
    "**Insight Visualisasi**  \n",
    "Berdasarkan analisa dan visualisasi, terlihat dalam setahun, Warna yang paling diminati pelanggan adalah Olive (177), Kuning (174), dan Silver (173). Sementara itu, dari sisi ukuran yang paling diminati adalah ukuran M sebesar 1755 penjualan, dan L sebanyak 1053, jauh dari S dan XL. **Artinya perusahaan dapat memperbanyak stok ukuran M dan L dibandingkan ukuran lainnya dari produk yang dijual, selain itu, perusahaan juga dapat memperbanyak produk dengan warna olive, kuning, dan silver dibandingkan warna lainnya.**"
   ]
  },
  {
   "cell_type": "markdown",
   "metadata": {},
   "source": [
    "### **Korelasi Antara ```Review Rating``` dan total Purchase Amount** "
   ]
  },
  {
   "cell_type": "markdown",
   "metadata": {},
   "source": [
    "Setelah menganalisa performa produk, selanjutnya kita dapat menganalisa lebih berkaitan dengan channel yang dapat kita jadikan patokan untuk menganalisa customer satisfaction dan behaviour dengan peningkatan Purchase Amount. Pertama kita akan menganalisa korelasi antara rating dengan tingkat purchase amount pelanggan. Karena data terdistribusi normal, kita akan menggunakan metode pearson"
   ]
  },
  {
   "cell_type": "code",
   "execution_count": 70,
   "metadata": {},
   "outputs": [
    {
     "name": "stdout",
     "output_type": "stream",
     "text": [
      "Korelasi Pearson antara Review Rating dengan Purchase Amount: 0.03077592307391446\n",
      "Kategori korelasi: Sangat lemah\n"
     ]
    }
   ],
   "source": [
    "# Hitung korelasi antara Rating dan Purchase Amount \n",
    "correlation_rating = df['Review Rating'].corr(df['Purchase Amount (USD)'], method='pearson')\n",
    "\n",
    "if correlation_rating >= 0.80:\n",
    "    category = 'Sangat kuat'\n",
    "elif correlation_rating >= 0.60:\n",
    "    category = 'Kuat'\n",
    "elif correlation_rating >= 0.40:\n",
    "    category = 'Sedang'\n",
    "elif correlation_rating >= 0.20:\n",
    "    category = 'lemah'\n",
    "else:\n",
    "    category = 'Sangat lemah'\n",
    "\n",
    "print(\"Korelasi Pearson antara Review Rating dengan Purchase Amount:\", correlation_rating)\n",
    "\n",
    "print(\"Kategori korelasi:\", category)"
   ]
  },
  {
   "cell_type": "markdown",
   "metadata": {},
   "source": [
    "**Kesimpulan**  \n",
    "\n",
    "Dari hasil korelasi antara Review Rating dan Purchase Amount sebesar 0.0307, dapat disimpulkan bahwa hubungan linier antara kedua variabel tersebut sangat lemah. Meskipun ada sedikit kecenderungan bahwa peningkatan Review Rating cenderung diikuti dengan peningkatan Purchase Amount, hubungan tersebut tidak kuat dan bisa saja disebabkan oleh faktor-faktor lain yang tidak diperhitungkan dalam analisis ini.**Hal ini mengindikasikan bahwa tidak selalu rating dan review yang ditulis oleh pelanggan dapat dijadikan pegangan terkait kepuasan pelanggan dan kecenderungan pembelian produk dari pelanggan tersebut. Artinya, perusahaan harus melakukan metode lain untuk mengetahui nilai kepuasan pelanggan yang mewakili peningkatan pembelian dari pelanggan tersebut, seperti menggunakan metrik NPS Score, customer retention rate, dan lain lain.**"
   ]
  },
  {
   "cell_type": "markdown",
   "metadata": {},
   "source": [
    "### **Korelasi Antara ```Subscription``` Status dan total Purchase Amount**  \n"
   ]
  },
  {
   "cell_type": "markdown",
   "metadata": {},
   "source": [
    "\n",
    "Selanjutnya kita dapat menganalisa korelasi antara subcsription status dengan tingkat purchase amount pelanggan. Karena data terdistribusi normal, kita akan menggunakan metode pearson lagi."
   ]
  },
  {
   "cell_type": "code",
   "execution_count": 71,
   "metadata": {},
   "outputs": [
    {
     "name": "stdout",
     "output_type": "stream",
     "text": [
      "Korelasi Pearson antara Subscription Status dengan Purchase Amount: -0.00699604056128993\n",
      "Kategori korelasi: Sangat lemah\n"
     ]
    }
   ],
   "source": [
    "# Konversi nilai kolom \"Yes\" menjadi 1 dan \"No\" menjadi 0 untuk dapat dianalisa\n",
    "df['Subscription Status'] = df['Subscription Status'].map({'Yes': 1, 'No': 0})\n",
    "\n",
    "# Perhitungan korelasi antara subscription status dengan Purchase Amount\n",
    "correlation_subs = df['Subscription Status'].corr(df['Purchase Amount (USD)'], method='pearson')\n",
    "\n",
    "if correlation_subs >= 0.80:\n",
    "    category = 'Sangat kuat'\n",
    "elif correlation_subs >= 0.60:\n",
    "    category = 'Kuat'\n",
    "elif correlation_subs >= 0.40:\n",
    "    category = 'Sedang'\n",
    "elif correlation_subs >= 0.20:\n",
    "    category = 'lemah'\n",
    "else:\n",
    "    category = 'Sangat lemah'\n",
    "\n",
    "print(\"Korelasi Pearson antara Subscription Status dengan Purchase Amount:\", correlation_subs)\n",
    "\n",
    "print(\"Kategori korelasi:\", category)\n"
   ]
  },
  {
   "cell_type": "markdown",
   "metadata": {},
   "source": [
    "**Kesimpulan**  \n",
    "\n",
    "Dari hasil korelasi antara Subscription status dan Purchase Amount sebesar -0.0069, dapat disimpulkan bahwa hubungan linier antara kedua variabel tersebut sangat lemah. Hal ini mengindikasikan bahwa loyalitas konsumen yang melakukan subscription tidak memengaruhi tingkat penjualan. Tentunya hal ini mengindikasikan hal yang kurang baik, mengingat tujuan subskripsi pelanggan adalah sebagai channel perusahaan kepada pelanggan yang berlangganan agar meningkatkan tingkat pembeliannya. **Artinya perusahaan harus memperbaiki marketing performance khususnya kepada pelanggan yang tersubskripsi agar terus terangsang untuk meningkatkan pembalian. Mungkin bisa dalam hal menambah benefit tertentu kepada pelanggan tersubskripsi**"
   ]
  },
  {
   "cell_type": "markdown",
   "metadata": {},
   "source": [
    "### **Korelasi Antara ```Diskon``` dan total Purchase Amount?**   \n"
   ]
  },
  {
   "cell_type": "markdown",
   "metadata": {},
   "source": [
    "Selanjutnya kita dapat menganalisa korelasi antara diskon dengan tingkat purchase amount pelanggan. Karena data terdistribusi normal, kita akan menggunakan metode pearson lagi."
   ]
  },
  {
   "cell_type": "code",
   "execution_count": 72,
   "metadata": {},
   "outputs": [
    {
     "name": "stdout",
     "output_type": "stream",
     "text": [
      "Korelasi Pearson antara Discount Applied dengan Purchase Amount: -0.017798054690021662\n",
      "Kategori korelasi: Sangat lemah\n"
     ]
    }
   ],
   "source": [
    "# Konversi nilai kolom \"Yes\" menjadi 1 dan \"No\" menjadi 0 untuk dapat dianalisa\n",
    "df['Discount Applied'] = df['Discount Applied'].map({'Yes': 1, 'No': 0})\n",
    "\n",
    "# Perhitungan korelasi antara Discount Applied dengan Purchase Amount\n",
    "correlation_disc = df['Discount Applied'].corr(df['Purchase Amount (USD)'], method='pearson')\n",
    "\n",
    "if correlation_disc >= 0.80:\n",
    "    category = 'Sangat kuat'\n",
    "elif correlation_disc >= 0.60:\n",
    "    category = 'Kuat'\n",
    "elif correlation_disc >= 0.40:\n",
    "    category = 'Sedang'\n",
    "elif correlation_disc >= 0.20:\n",
    "    category = 'lemah'\n",
    "else:\n",
    "    category = 'Sangat lemah'\n",
    "\n",
    "print(\"Korelasi Pearson antara Discount Applied dengan Purchase Amount:\", correlation_disc)\n",
    "\n",
    "print(\"Kategori korelasi:\", category)"
   ]
  },
  {
   "cell_type": "markdown",
   "metadata": {},
   "source": [
    "**Kesimpulan**  \n",
    "\n",
    "Dari hasil korelasi antara Discount Applied dengan Purchase Amount sebesar -0.01 artinya korelasinya sangat lemah. **Hal ini mengindikasikan performa marketing dalam hal diskon masih kurang membuahkan hasil, karena tidak ada bedanya produk yang di diskon ataupun tidak terhadap penjualan. Mungkin perusahaan dapat mempertimbangkan menaikkan diskon, atau menggunakan metode marketing lainnya untuk meningkatkan penjualan** "
   ]
  },
  {
   "cell_type": "markdown",
   "metadata": {},
   "source": [
    "### **Korelasi antara ```Promo Code``` dengan Purchase Amount**"
   ]
  },
  {
   "cell_type": "markdown",
   "metadata": {},
   "source": [
    "Selanjutnya kita dapat menganalisa korelasi antara promo code dengan tingkat purchase amount pelanggan. Karena data terdistribusi normal, kita akan menggunakan metode pearson lagi."
   ]
  },
  {
   "cell_type": "code",
   "execution_count": 73,
   "metadata": {},
   "outputs": [
    {
     "name": "stdout",
     "output_type": "stream",
     "text": [
      "Korelasi Pearson antara Promo Code Used dengan Purchase Amount: -0.017798054690021662\n",
      "Kategori korelasi: Sangat lemah\n"
     ]
    }
   ],
   "source": [
    "# Konversi nilai kolom \"Yes\" menjadi 1 dan \"No\" menjadi 0 untuk dapat dianalisa\n",
    "df['Promo Code Used'] = df['Promo Code Used'].map({'Yes': 1, 'No': 0})\n",
    "\n",
    "# Perhitungan korelasi antara Promo Code Used dengan Purchase Amount\n",
    "correlation_subs = df['Promo Code Used'].corr(df['Purchase Amount (USD)'], method='pearson')\n",
    "\n",
    "if correlation_subs >= 0.80:\n",
    "    category = 'Sangat kuat'\n",
    "elif correlation_subs >= 0.60:\n",
    "    category = 'Kuat'\n",
    "elif correlation_subs >= 0.40:\n",
    "    category = 'Sedang'\n",
    "elif correlation_subs >= 0.20:\n",
    "    category = 'lemah'\n",
    "else:\n",
    "    category = 'Sangat lemah'\n",
    "\n",
    "print(\"Korelasi Pearson antara Promo Code Used dengan Purchase Amount:\", correlation_subs)\n",
    "\n",
    "print(\"Kategori korelasi:\", category)"
   ]
  },
  {
   "cell_type": "markdown",
   "metadata": {},
   "source": [
    "**Kesimpulan**  \n",
    "\n",
    "Dari hasil korelasi antara Promo Code dengan Purchase Amount sebesar -0.017 artinya korelasinya sangat lemah. **Hal ini mengindikasikan performa marketing dalam promo code masih kurang membuahkan hasil, karena tidak ada bedanya produk yang di berikan promo code ataupun tidak terhadap penjualan. Mungkin perusahaan dapat mempertimbangkan metode marketing lainnya untuk meningkatkan penjualan** "
   ]
  },
  {
   "cell_type": "code",
   "execution_count": 74,
   "metadata": {},
   "outputs": [],
   "source": [
    "# Menyimpan file CSV hasil olahan\n",
    "\n",
    "df.to_csv('df_hasil_analisa.csv', index=False)"
   ]
  },
  {
   "cell_type": "markdown",
   "metadata": {},
   "source": [
    "# Pengambilan Keputusan"
   ]
  },
  {
   "cell_type": "markdown",
   "metadata": {},
   "source": [
    "- Berdasarkan analisa gender, saat ini jumlah pelanggan terbanyak yang berkontribusi langsung ke performa penjualan adalah Male, namun ditemukan bahwa rata-rata pembelian dari gender Female tidak jauh berbeda dengan Male, jadi untuk strategi long term Perusahaan dapat mempertimbangkan untuk meluaskan segmentasi market ke perempuan, dan memfokuskan penjualan ke produk produk pria untuk solusi short-termnya. \n",
    "\n",
    "- Berdasarkan analisa umur, produk banyak diminati umur 18 tahun ke atas, khususnya yang berkontribusi langsung dengan performa penjualan yaitu dalam rentang 19-30 tahun (Young Adults). Perusahaan dapat mengerjakan opsi seperti memperbanyak inovasi produk untuk kaum dalam rentang umur ini. Namun untuk pertimbangan long term, perusahaan dapat mencoba untuk mendesain produk untuk anak-anak dan remaja (18 tahun ke bawah) karena belum ada pelanggan dalam rentang umur ini.\n",
    "\n",
    "- Berdasarkan analisa performa penjualan wilayah, terdapat 25 wilayah yang memiliki performa yang baik. Montana, Illinois menjadi top performer perusahaan. Mungkin perusahaan dapat mendistribusikan produk lebih banyak di wilayah tersebut, namun perusahaan juga perlu memperbaiki dan menganalisa kembali ke 25 wilayah yang di bawah performa  rata-rata terutama kansas yang performanya terburuk tahun ini.\n",
    "\n",
    "- Berdasarkan analisa berdasarkan penjualan seasonal, ditemukan peak season yang berkontribusi langsung dengan penjualan adalah saat fall, sementara yang terendah saat summer. Perusahaan dapat menganalisa lebih lanjut mengapa saat summer kontribusi penjualan sangat menurun. Mungkin bisa mencoba untuk melakukan invoasi produk-produk clothing saat musim panas atau metode marketing seperti summer sales untuk mendongkrak sales.  \n",
    "\n",
    "- Berdasarkan analisa produk, Blouse, Jewelry dan Pants menjadi top product perusahaan dengan penjualan tertinggi. Namun penjualan jeans yang paling merosot. Mungkin perusahaan perlu mempertimbangkan desain dari produk jeans agar sales jeans meningkat tahun depan.  \n",
    "\n",
    "- Berdasarkan analisa warna dan ukuran, ukran M dan L memiliki tingkat penjualan tertinggi, dengan warna Olive, Kuning dan Silver. Perusahaan bisa mempertimbangkan untuk memperbanyak stok ukuram produk M dan L dan warna produk Olive, kuning dan Silver untuk meningkatkan pendapatan ke depannya.  \n",
    "\n",
    "- Strategi marketing diskon, promo code, dan subscription memiliki korelasi yang rendah terhadap tingkat penjualan, ini merupakan rapor buruk bagi performa tim marketing perusahaan. Perusahaan perlu menganalisa lebih lanjut dan memperbaiki strategi marketing agar penjualan dapat terdongkrak tahun depan.  \n",
    "\n",
    "- Korelasi antara Review Rating dan Purchase Amount juga sangat lemah. Artinya tidak selalu rating dan review yang ditulis oleh pelanggan dapat dijadikan pegangan terkait kepuasan pelanggan. Perusahaan harus melakukan metode penelitian lain untuk mengetahui nilai kepuasan pelanggan yang mewakili peningkatan pembelian dari pelanggan tersebut, seperti menggunakan metrik NPS Score, customer retention rate, atau lainnya.  \n",
    "\n",
    "**Secara garis besar untuk meningkatkan performa penjualan perusahaan bisa melakukan hal ini:**\n",
    "\n",
    "**1. Fokus menargetkan konsumen Bergender pria, berumur 19-30 tahun di wilayah Montana, Illinois**  \n",
    "**2. Fokus membuat inovasi dan produksi lebih banyak produk Blouse, Jewelry dan Pants dengan ukuran M dan L dan perbanyak warna produk dengan tema   Olive, Kuning dan Silver.**  \n",
    "**3. Mereview dan memperbaiki kualitas produk jeans**  \n",
    "**4. Mengidentifikasi dan membenahi masalah penjualan di 25 wilayah terutama Kansas**  \n",
    "**5. Analisa penyebab performa strategi marketing yang buruk**  \n",
    "**6. Menentukan metrik lain untuk kepuasan pelanggan selain review rating.**  \n",
    "**7. Perbanyak promosi saat Season Fall**  \n",
    "**8. Analisa produk di season summer**  \n"
   ]
  }
 ],
 "metadata": {
  "kernelspec": {
   "display_name": "base",
   "language": "python",
   "name": "python3"
  },
  "language_info": {
   "codemirror_mode": {
    "name": "ipython",
    "version": 3
   },
   "file_extension": ".py",
   "mimetype": "text/x-python",
   "name": "python",
   "nbconvert_exporter": "python",
   "pygments_lexer": "ipython3",
   "version": "3.11.5"
  }
 },
 "nbformat": 4,
 "nbformat_minor": 2
}
